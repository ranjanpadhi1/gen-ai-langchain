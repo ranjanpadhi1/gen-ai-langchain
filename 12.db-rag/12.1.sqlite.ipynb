{
 "cells": [
  {
   "cell_type": "markdown",
   "metadata": {},
   "source": [
    "## Create SQLite DB using SQL Script"
   ]
  },
  {
   "cell_type": "markdown",
   "metadata": {},
   "source": [
    "#### Read SQL Script"
   ]
  },
  {
   "cell_type": "code",
   "execution_count": 1,
   "metadata": {},
   "outputs": [
    {
     "data": {
      "text/plain": [
       "\"DROP TABLE IF EXISTS dept;\\nDROP TABLE IF EXISTS salgrade;\\nDROP TABLE IF EXISTS emp;\\n\\nCREATE TABLE salgrade(grade int(4) not null primary key, losal decimal(10,2), hisal decimal(10,2));\\nCREATE TABLE dept(deptno int(2) not null primary key, dname varchar(50) not null, location varchar(50) not null);\\nCREATE TABLE emp(empno int(4) not null primary key, ename varchar(50) not null, job varchar(50) not null, mgr int(4), hiredate date, sal decimal(10,2), comm decimal(10,2), deptno int(2) not null);\\n\\ninsert into dept values (10,'Accounting','New York');\\ninsert into dept values (20,'Research','Dallas');\\ninsert into dept values (30,'Sales','Chicago');\\ninsert into dept values (40,'Operations','Boston');\\n\\ninsert into emp values (7369,'SMITH','CLERK',7902,'93/6/13',800,0.00,20);\\ninsert into emp values (7499,'ALLEN','SALESMAN',7698,'98/8/15',1600,300,30);\\ninsert into emp values (7521,'WARD','SALESMAN',7698,'96/3/26',1250,500,30);\\ninsert into emp values (7566,'JONES','MANAGER',7839,'95/10/31',2975,null,20);\\ninsert into emp values (7698,'BLAKE','MANAGER',7839,'92/6/11',2850,null,30);\\ninsert into emp values (7782,'CLARK','MANAGER',7839,'93/5/14',2450,null,10);\\ninsert into emp values (7788,'SCOTT','ANALYST',7566,'96/3/5',3000,null,20);\\ninsert into emp values (7839,'KING','PRESIDENT',null,'90/6/9',5000,0,10);\\ninsert into emp values (7844,'TURNER','SALESMAN',7698,'95/6/4',1500,0,30);\\ninsert into emp values (7876,'ADAMS','CLERK',7788,'99/6/4',1100,null,20);\\ninsert into emp values (7900,'JAMES','CLERK',7698,'00/6/23',950,null,30);\\ninsert into emp values (7934,'MILLER','CLERK',7782,'00/1/21',1300,null,10);\\ninsert into emp values (7902,'FORD','ANALYST',7566,'97/12/5',3000,null,20);\\ninsert into emp values (7654,'MARTIN','SALESMAN',7698,'98/12/5',1250,1400,30);\\n\\ninsert into salgrade values (1,700,1200);\\ninsert into salgrade values (2,1201,1400);\\ninsert into salgrade values (3,1401,2000);\\ninsert into salgrade values (4,2001,3000);\\ninsert into salgrade values (5,3001,99999);\""
      ]
     },
     "execution_count": 1,
     "metadata": {},
     "output_type": "execute_result"
    }
   ],
   "source": [
    "with open(\"emp_data.sql\", 'r') as sql_file:\n",
    "    sql_script = sql_file.read()\n",
    "\n",
    "sql_script"
   ]
  },
  {
   "cell_type": "markdown",
   "metadata": {},
   "source": [
    "#### Execute Script"
   ]
  },
  {
   "cell_type": "code",
   "execution_count": 2,
   "metadata": {},
   "outputs": [],
   "source": [
    "import sqlite3\n",
    "\n",
    "conn = sqlite3.connect(\"emp.db\")\n",
    "cursor = conn.cursor()\n",
    "cursor.executescript(sql_script)\n",
    "conn.commit()\n",
    "conn.close()"
   ]
  },
  {
   "cell_type": "markdown",
   "metadata": {},
   "source": [
    "#### List all tables"
   ]
  },
  {
   "cell_type": "code",
   "execution_count": 3,
   "metadata": {},
   "outputs": [
    {
     "data": {
      "text/plain": [
       "[('salgrade',),\n",
       " ('sqlite_autoindex_salgrade_1',),\n",
       " ('dept',),\n",
       " ('sqlite_autoindex_dept_1',),\n",
       " ('emp',),\n",
       " ('sqlite_autoindex_emp_1',)]"
      ]
     },
     "execution_count": 3,
     "metadata": {},
     "output_type": "execute_result"
    }
   ],
   "source": [
    "conn = sqlite3.connect(\"emp.db\")\n",
    "\n",
    "res = conn.execute(\"SELECT name FROM sqlite_master\")\n",
    "res.fetchall()"
   ]
  },
  {
   "cell_type": "markdown",
   "metadata": {},
   "source": [
    "#### Query on Table"
   ]
  },
  {
   "cell_type": "code",
   "execution_count": 4,
   "metadata": {},
   "outputs": [
    {
     "data": {
      "text/plain": [
       "[(7369, 'SMITH', 'CLERK', 7902, '93/6/13', 800, 0, 20),\n",
       " (7499, 'ALLEN', 'SALESMAN', 7698, '98/8/15', 1600, 300, 30),\n",
       " (7521, 'WARD', 'SALESMAN', 7698, '96/3/26', 1250, 500, 30),\n",
       " (7566, 'JONES', 'MANAGER', 7839, '95/10/31', 2975, None, 20),\n",
       " (7698, 'BLAKE', 'MANAGER', 7839, '92/6/11', 2850, None, 30),\n",
       " (7782, 'CLARK', 'MANAGER', 7839, '93/5/14', 2450, None, 10),\n",
       " (7788, 'SCOTT', 'ANALYST', 7566, '96/3/5', 3000, None, 20),\n",
       " (7839, 'KING', 'PRESIDENT', None, '90/6/9', 5000, 0, 10),\n",
       " (7844, 'TURNER', 'SALESMAN', 7698, '95/6/4', 1500, 0, 30),\n",
       " (7876, 'ADAMS', 'CLERK', 7788, '99/6/4', 1100, None, 20),\n",
       " (7900, 'JAMES', 'CLERK', 7698, '00/6/23', 950, None, 30),\n",
       " (7934, 'MILLER', 'CLERK', 7782, '00/1/21', 1300, None, 10),\n",
       " (7902, 'FORD', 'ANALYST', 7566, '97/12/5', 3000, None, 20),\n",
       " (7654, 'MARTIN', 'SALESMAN', 7698, '98/12/5', 1250, 1400, 30)]"
      ]
     },
     "execution_count": 4,
     "metadata": {},
     "output_type": "execute_result"
    }
   ],
   "source": [
    "conn.execute(\"SELECT * from emp\").fetchall()"
   ]
  },
  {
   "cell_type": "code",
   "execution_count": 6,
   "metadata": {},
   "outputs": [
    {
     "data": {
      "text/plain": [
       "[(7566, 'JONES', 'MANAGER', 7839, '95/10/31', 2975, None, 20),\n",
       " (7698, 'BLAKE', 'MANAGER', 7839, '92/6/11', 2850, None, 30),\n",
       " (7782, 'CLARK', 'MANAGER', 7839, '93/5/14', 2450, None, 10),\n",
       " (7788, 'SCOTT', 'ANALYST', 7566, '96/3/5', 3000, None, 20),\n",
       " (7839, 'KING', 'PRESIDENT', None, '90/6/9', 5000, 0, 10),\n",
       " (7902, 'FORD', 'ANALYST', 7566, '97/12/5', 3000, None, 20)]"
      ]
     },
     "execution_count": 6,
     "metadata": {},
     "output_type": "execute_result"
    }
   ],
   "source": [
    "conn.execute(\"SELECT * from emp where sal > 1800\").fetchall()"
   ]
  }
 ],
 "metadata": {
  "kernelspec": {
   "display_name": "Python 3",
   "language": "python",
   "name": "python3"
  },
  "language_info": {
   "codemirror_mode": {
    "name": "ipython",
    "version": 3
   },
   "file_extension": ".py",
   "mimetype": "text/x-python",
   "name": "python",
   "nbconvert_exporter": "python",
   "pygments_lexer": "ipython3",
   "version": "3.10.0"
  }
 },
 "nbformat": 4,
 "nbformat_minor": 2
}
