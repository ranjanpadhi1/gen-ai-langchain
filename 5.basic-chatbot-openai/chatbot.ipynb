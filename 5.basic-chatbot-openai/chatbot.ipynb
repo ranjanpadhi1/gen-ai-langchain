{
 "cells": [
  {
   "cell_type": "markdown",
   "metadata": {},
   "source": [
    "## Basic chatbot using Open AI LLM Model\n",
    "- Install below libraries\n",
    "    - `langchain`\n",
    "    - `langchain-community`\n",
    "    - `langchain-openai`\n",
    "    - `python_dotenv`\n",
    "- Add environment variables in `.env` file\n",
    "    - `LANGCHAIN_PROJECT=<key>`\n",
    "    - `LANGCHAIN_TRACING_V2=\"true\"`\n",
    "    - `LANGCHAIN_API_KEY=<key>`\n",
    "    - `OPENAI_API_KEY=<key>`\n",
    "- Import `ChatOpenAI` model\n",
    "- Create `ChatPromptTemplate` to format the prompt which can accept variables and roles\n",
    "- Create ouput parser `StrOutputParser` to show the string output\n",
    "- Create chain to define the order of execution \n",
    "    - prompt-template | llm | output-parser\n",
    "- Invoke by sending the input chat prompt\n",
    "- Trace and monitor the application is LangSmith - https://smith.langchain.com/"
   ]
  },
  {
   "cell_type": "markdown",
   "metadata": {},
   "source": [
    "#### Load envrionment variables"
   ]
  },
  {
   "cell_type": "code",
   "execution_count": 2,
   "metadata": {},
   "outputs": [
    {
     "data": {
      "text/plain": [
       "True"
      ]
     },
     "execution_count": 2,
     "metadata": {},
     "output_type": "execute_result"
    }
   ],
   "source": [
    "from dotenv import load_dotenv\n",
    "load_dotenv()"
   ]
  },
  {
   "cell_type": "markdown",
   "metadata": {},
   "source": [
    "#### Import OpenAI Chat LLM Model"
   ]
  },
  {
   "cell_type": "code",
   "execution_count": 3,
   "metadata": {},
   "outputs": [
    {
     "data": {
      "text/plain": [
       "ChatOpenAI(client=<openai.resources.chat.completions.Completions object at 0x000002D17E23A140>, async_client=<openai.resources.chat.completions.AsyncCompletions object at 0x000002D17E23BA60>, root_client=<openai.OpenAI object at 0x000002D17C7467A0>, root_async_client=<openai.AsyncOpenAI object at 0x000002D17E23A170>, model_name='gpt-4o', openai_api_key=SecretStr('**********'), openai_proxy='')"
      ]
     },
     "execution_count": 3,
     "metadata": {},
     "output_type": "execute_result"
    }
   ],
   "source": [
    "from langchain_openai import ChatOpenAI\n",
    "\n",
    "llm = ChatOpenAI(model=\"gpt-4o\")\n",
    "llm"
   ]
  },
  {
   "cell_type": "markdown",
   "metadata": {},
   "source": [
    "#### Test llm by sending a promt"
   ]
  },
  {
   "cell_type": "code",
   "execution_count": 4,
   "metadata": {},
   "outputs": [
    {
     "data": {
      "text/plain": [
       "AIMessage(content=\"I'm an AI language model created by OpenAI, often referred to as ChatGPT. I'm designed to assist with answering questions, providing information, and engaging in conversation on a wide range of topics. How can I help you today?\", additional_kwargs={'refusal': None}, response_metadata={'token_usage': {'completion_tokens': 46, 'prompt_tokens': 11, 'total_tokens': 57, 'completion_tokens_details': {'reasoning_tokens': 0}}, 'model_name': 'gpt-4o-2024-05-13', 'system_fingerprint': 'fp_52a7f40b0b', 'finish_reason': 'stop', 'logprobs': None}, id='run-4759e60e-e882-4abb-85a7-dbd5897b6a0f-0', usage_metadata={'input_tokens': 11, 'output_tokens': 46, 'total_tokens': 57})"
      ]
     },
     "execution_count": 4,
     "metadata": {},
     "output_type": "execute_result"
    }
   ],
   "source": [
    "llm.invoke(\"Who are you?\")"
   ]
  },
  {
   "cell_type": "markdown",
   "metadata": {},
   "source": [
    "#### Create Chat-prompt Template"
   ]
  },
  {
   "cell_type": "code",
   "execution_count": 5,
   "metadata": {},
   "outputs": [],
   "source": [
    "from langchain_core.prompts import ChatPromptTemplate\n",
    "\n",
    "prompt = ChatPromptTemplate.from_messages([\n",
    "    (\"system\", \"Act like a doctor and answer my questions\"),\n",
    "    (\"user\", \"{input}\")\n",
    "])"
   ]
  },
  {
   "cell_type": "markdown",
   "metadata": {},
   "source": [
    "#### Output parser"
   ]
  },
  {
   "cell_type": "code",
   "execution_count": 6,
   "metadata": {},
   "outputs": [],
   "source": [
    "from langchain_core.output_parsers import StrOutputParser\n",
    "\n",
    "output_parser = StrOutputParser()"
   ]
  },
  {
   "cell_type": "markdown",
   "metadata": {},
   "source": [
    "#### Create a chain - Sequence of execution when user sends a prompt"
   ]
  },
  {
   "cell_type": "code",
   "execution_count": 8,
   "metadata": {},
   "outputs": [
    {
     "data": {
      "text/plain": [
       "\"I'm sorry to hear that you're not feeling well. Based on your symptoms, it sounds like you might be experiencing a fever along with a headache. Here are some steps you can take:\\n\\n1. **Rest**: Make sure you are getting plenty of rest to help your body fight off whatever might be causing these symptoms.\\n\\n2. **Hydration**: Drink plenty of fluids like water, herbal teas, or clear broths to stay hydrated.\\n\\n3. **Over-the-counter Medications**: You can take over-the-counter medications like acetaminophen (Tylenol) or ibuprofen (Advil) to help reduce fever and alleviate headache pain. Be sure to follow the dosing instructions on the packaging.\\n\\n4. **Cool Compress**: Applying a cool, damp cloth to your forehead can help reduce fever and provide some relief from your headache.\\n\\n5. **Monitor Symptoms**: Keep track of your symptoms. If your fever is high (generally above 102°F or 39°C), persistent, or if you experience other symptoms like a stiff neck, rash, severe headache, confusion, chest pain, or difficulty breathing, seek medical attention promptly.\\n\\n6. **Avoid Strenuous Activities**: Try to take it easy and avoid any strenuous activities that could exacerbate your symptoms.\\n\\nIt's important to note that if your symptoms persist for more than a few days or worsen, you should contact a healthcare professional for a more thorough evaluation. There could be various underlying causes for your symptoms, ranging from a common viral infection to something more serious, and a doctor can help determine the appropriate course of action.\\n\\nFeel better soon!\""
      ]
     },
     "execution_count": 8,
     "metadata": {},
     "output_type": "execute_result"
    }
   ],
   "source": [
    "chain = prompt | llm | output_parser\n",
    "chain.invoke({\"input\": \"I am having headache and my body is warm, what to do?\"})"
   ]
  },
  {
   "cell_type": "code",
   "execution_count": 9,
   "metadata": {},
   "outputs": [
    {
     "data": {
      "text/plain": [
       "ChatPromptTemplate(input_variables=['input'], messages=[SystemMessagePromptTemplate(prompt=PromptTemplate(input_variables=[], template='Act like a doctor and answer my questions')), HumanMessagePromptTemplate(prompt=PromptTemplate(input_variables=['input'], template='{input}'))])\n",
       "| ChatOpenAI(client=<openai.resources.chat.completions.Completions object at 0x000002D17E23A140>, async_client=<openai.resources.chat.completions.AsyncCompletions object at 0x000002D17E23BA60>, root_client=<openai.OpenAI object at 0x000002D17C7467A0>, root_async_client=<openai.AsyncOpenAI object at 0x000002D17E23A170>, model_name='gpt-4o', openai_api_key=SecretStr('**********'), openai_proxy='')\n",
       "| StrOutputParser()"
      ]
     },
     "execution_count": 9,
     "metadata": {},
     "output_type": "execute_result"
    }
   ],
   "source": [
    "chain"
   ]
  }
 ],
 "metadata": {
  "kernelspec": {
   "display_name": "Python 3",
   "language": "python",
   "name": "python3"
  },
  "language_info": {
   "codemirror_mode": {
    "name": "ipython",
    "version": 3
   },
   "file_extension": ".py",
   "mimetype": "text/x-python",
   "name": "python",
   "nbconvert_exporter": "python",
   "pygments_lexer": "ipython3",
   "version": "3.10.0"
  }
 },
 "nbformat": 4,
 "nbformat_minor": 2
}
