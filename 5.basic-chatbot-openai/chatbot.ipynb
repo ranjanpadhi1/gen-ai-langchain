{
 "cells": [
  {
   "cell_type": "markdown",
   "metadata": {},
   "source": [
    "## Basic chatbot using Open AI LLM Model\n",
    "- Install below libraries\n",
    "    - `langchain`\n",
    "    - `langchain-community`\n",
    "    - `langchain-openai`\n",
    "    - `python_dotenv`\n",
    "- Add environment variables in `.env` file\n",
    "    - `LANGCHAIN_PROJECT=<key>`\n",
    "    - `LANGCHAIN_TRACING_V2=\"true\"`\n",
    "    - `LANGCHAIN_API_KEY=<key>`\n",
    "    - `OPENAI_API_KEY=<key>`\n",
    "- Import `ChatOpenAI` model\n",
    "- Create `ChatPromptTemplate` to define the roles and input\n",
    "- Create ouput parser `StrOutputParser` to show the string output\n",
    "- Create chain to define the order of execution \n",
    "    - prompt-template | llm | output-parser\n",
    "- Invoke by sending the input chat prompt"
   ]
  },
  {
   "cell_type": "markdown",
   "metadata": {},
   "source": [
    "#### Load envrionment variables"
   ]
  },
  {
   "cell_type": "code",
   "execution_count": 2,
   "metadata": {},
   "outputs": [
    {
     "data": {
      "text/plain": [
       "True"
      ]
     },
     "execution_count": 2,
     "metadata": {},
     "output_type": "execute_result"
    }
   ],
   "source": [
    "from dotenv import load_dotenv\n",
    "load_dotenv()"
   ]
  },
  {
   "cell_type": "markdown",
   "metadata": {},
   "source": [
    "#### Import OpenAI Chat LLM Model"
   ]
  },
  {
   "cell_type": "code",
   "execution_count": 4,
   "metadata": {},
   "outputs": [
    {
     "data": {
      "text/plain": [
       "ChatOpenAI(client=<openai.resources.chat.completions.Completions object at 0x0000023D66CFB9D0>, async_client=<openai.resources.chat.completions.AsyncCompletions object at 0x0000023D66D2D1E0>, root_client=<openai.OpenAI object at 0x0000023D66CFAD10>, root_async_client=<openai.AsyncOpenAI object at 0x0000023D66CFB9A0>, model_name='gpt-4o', openai_api_key=SecretStr('**********'), openai_proxy='')"
      ]
     },
     "execution_count": 4,
     "metadata": {},
     "output_type": "execute_result"
    }
   ],
   "source": [
    "from langchain_openai import ChatOpenAI\n",
    "\n",
    "llm = ChatOpenAI(model=\"gpt-4o\")\n",
    "llm"
   ]
  },
  {
   "cell_type": "markdown",
   "metadata": {},
   "source": [
    "#### Test llm by sending a promt"
   ]
  },
  {
   "cell_type": "code",
   "execution_count": 6,
   "metadata": {},
   "outputs": [
    {
     "data": {
      "text/plain": [
       "AIMessage(content=\"I'm an AI language model created by OpenAI, designed to assist with answering questions, providing information, and engaging in conversation on a variety of topics. How can I help you today?\", additional_kwargs={'refusal': None}, response_metadata={'token_usage': {'completion_tokens': 37, 'prompt_tokens': 11, 'total_tokens': 48, 'completion_tokens_details': {'reasoning_tokens': 0}}, 'model_name': 'gpt-4o-2024-05-13', 'system_fingerprint': 'fp_52a7f40b0b', 'finish_reason': 'stop', 'logprobs': None}, id='run-806abca8-30d6-48eb-afbd-225979d41a25-0', usage_metadata={'input_tokens': 11, 'output_tokens': 37, 'total_tokens': 48})"
      ]
     },
     "execution_count": 6,
     "metadata": {},
     "output_type": "execute_result"
    }
   ],
   "source": [
    "llm.invoke(\"Who are you?\")"
   ]
  },
  {
   "cell_type": "markdown",
   "metadata": {},
   "source": [
    "#### Create Chat-prompt Template"
   ]
  },
  {
   "cell_type": "code",
   "execution_count": 7,
   "metadata": {},
   "outputs": [],
   "source": [
    "from langchain_core.prompts import ChatPromptTemplate\n",
    "\n",
    "prompt = ChatPromptTemplate.from_messages([\n",
    "    (\"system\", \"Act like a doctor and answer my questions\"),\n",
    "    (\"user\", \"{input}\")\n",
    "])"
   ]
  },
  {
   "cell_type": "markdown",
   "metadata": {},
   "source": [
    "#### Output parser"
   ]
  },
  {
   "cell_type": "code",
   "execution_count": 15,
   "metadata": {},
   "outputs": [],
   "source": [
    "from langchain_core.output_parsers import StrOutputParser\n",
    "\n",
    "output_parser = StrOutputParser()"
   ]
  },
  {
   "cell_type": "markdown",
   "metadata": {},
   "source": [
    "#### Create a chain - Sequence of execution when user sends a prompt"
   ]
  },
  {
   "cell_type": "code",
   "execution_count": 16,
   "metadata": {},
   "outputs": [
    {
     "data": {
      "text/plain": [
       "\"I'm sorry to hear that you're not feeling well. A headache and a warm body could be indicative of several things, including a possible fever or infection. Here's what you can do:\\n\\n1. **Take Your Temperature**: Use a thermometer to check if you have a fever. A normal body temperature is typically around 98.6°F (37°C). A fever is usually considered to be a temperature of 100.4°F (38°C) or higher.\\n\\n2. **Stay Hydrated**: Drink plenty of fluids such as water, herbal teas, or broth. Staying hydrated can help your body fight off infection and ease some of the discomfort.\\n\\n3. **Rest**: Make sure you get plenty of rest. Your body needs energy to fight off whatever is causing your symptoms.\\n\\n4. **Over-the-Counter Medications**: You can consider taking over-the-counter medications like acetaminophen (Tylenol) or ibuprofen (Advil) to help reduce fever and alleviate headache pain. Be sure to follow the dosage instructions on the package.\\n\\n5. **Cool Compress**: Applying a cool, damp cloth to your forehead can help reduce fever and alleviate headache symptoms.\\n\\n6. **Monitor Symptoms**: Keep an eye on your symptoms. If your headache becomes severe, if you experience neck stiffness, confusion, difficulty breathing, or if your fever persists for more than a couple of days, seek medical attention promptly.\\n\\n7. **Avoid Stress and Strain**: Try to avoid strenuous activities and stressful situations that could exacerbate your symptoms.\\n\\n8. **Consult a Healthcare Professional**: If your symptoms persist or worsen, it's important to consult a healthcare professional for a thorough evaluation and appropriate treatment.\\n\\nPlease remember that these are general guidelines and not a substitute for professional medical advice. If you're concerned about your symptoms, it's always best to seek the advice of a healthcare provider.\""
      ]
     },
     "execution_count": 16,
     "metadata": {},
     "output_type": "execute_result"
    }
   ],
   "source": [
    "chain = prompt | llm | output_parser\n",
    "chain.invoke({\"input\": \"I am having headache and my body is warm, what to do?\"})"
   ]
  }
 ],
 "metadata": {
  "kernelspec": {
   "display_name": "Python 3",
   "language": "python",
   "name": "python3"
  },
  "language_info": {
   "codemirror_mode": {
    "name": "ipython",
    "version": 3
   },
   "file_extension": ".py",
   "mimetype": "text/x-python",
   "name": "python",
   "nbconvert_exporter": "python",
   "pygments_lexer": "ipython3",
   "version": "3.10.0"
  }
 },
 "nbformat": 4,
 "nbformat_minor": 2
}
