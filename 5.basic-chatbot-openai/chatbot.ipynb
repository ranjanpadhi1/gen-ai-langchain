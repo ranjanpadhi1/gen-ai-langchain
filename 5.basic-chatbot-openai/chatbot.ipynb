{
 "cells": [
  {
   "cell_type": "markdown",
   "metadata": {},
   "source": [
    "## Basic chatbot using Open AI LLM Model\n",
    "- Install below libraries\n",
    "    - `langchain`\n",
    "    - `langchain-community`\n",
    "    - `langchain-openai`\n",
    "    - `python_dotenv`\n",
    "- Add environment variables in `.env` file\n",
    "    - `LANGCHAIN_PROJECT=<key>`\n",
    "    - `LANGCHAIN_TRACING_V2=\"true\"`\n",
    "    - `LANGCHAIN_API_KEY=<key>`\n",
    "    - `OPENAI_API_KEY=<key>`\n",
    "- Import `ChatOpenAI` model\n",
    "- Create `ChatPromptTemplate` to format the prompt which can accept variables and roles\n",
    "- Create ouput parser `StrOutputParser` to show the string output\n",
    "- Create chain to define the order of execution \n",
    "    - prompt-template | llm | output-parser\n",
    "- Invoke by sending the input chat prompt\n",
    "- Trace and monitor the application is LangSmith - https://smith.langchain.com/"
   ]
  },
  {
   "cell_type": "markdown",
   "metadata": {},
   "source": [
    "#### Load envrionment variables"
   ]
  },
  {
   "cell_type": "code",
   "execution_count": 8,
   "metadata": {},
   "outputs": [
    {
     "data": {
      "text/plain": [
       "True"
      ]
     },
     "execution_count": 8,
     "metadata": {},
     "output_type": "execute_result"
    }
   ],
   "source": [
    "from dotenv import load_dotenv\n",
    "load_dotenv()"
   ]
  },
  {
   "cell_type": "markdown",
   "metadata": {},
   "source": [
    "#### Import OpenAI Chat LLM Model"
   ]
  },
  {
   "cell_type": "code",
   "execution_count": 9,
   "metadata": {},
   "outputs": [
    {
     "data": {
      "text/plain": [
       "ChatOpenAI(client=<openai.resources.chat.completions.Completions object at 0x0000025EAAC94DF0>, async_client=<openai.resources.chat.completions.AsyncCompletions object at 0x0000025EAAD841C0>, root_client=<openai.OpenAI object at 0x0000025EAAC94730>, root_async_client=<openai.AsyncOpenAI object at 0x0000025EAAC96590>, model_name='gpt-4o', model_kwargs={}, openai_api_key=SecretStr('**********'))"
      ]
     },
     "execution_count": 9,
     "metadata": {},
     "output_type": "execute_result"
    }
   ],
   "source": [
    "from langchain_openai import ChatOpenAI\n",
    "\n",
    "llm = ChatOpenAI(model=\"gpt-4o\")\n",
    "llm"
   ]
  },
  {
   "cell_type": "markdown",
   "metadata": {},
   "source": [
    "#### Test llm by sending a promt"
   ]
  },
  {
   "cell_type": "code",
   "execution_count": 10,
   "metadata": {},
   "outputs": [
    {
     "data": {
      "text/plain": [
       "AIMessage(content=\"I'm an AI language model created by OpenAI, known as ChatGPT. I'm designed to assist with answering questions, providing information, and engaging in conversation on a wide range of topics. How can I help you today?\", additional_kwargs={'refusal': None}, response_metadata={'token_usage': {'completion_tokens': 44, 'prompt_tokens': 11, 'total_tokens': 55, 'completion_tokens_details': {'reasoning_tokens': 0}}, 'model_name': 'gpt-4o-2024-05-13', 'system_fingerprint': 'fp_057232b607', 'finish_reason': 'stop', 'logprobs': None}, id='run-937e39af-5e88-4078-8346-e37d10040e2f-0', usage_metadata={'input_tokens': 11, 'output_tokens': 44, 'total_tokens': 55})"
      ]
     },
     "execution_count": 10,
     "metadata": {},
     "output_type": "execute_result"
    }
   ],
   "source": [
    "llm.invoke(\"Who are you?\")"
   ]
  },
  {
   "cell_type": "markdown",
   "metadata": {},
   "source": [
    "#### Create Chat-prompt Template"
   ]
  },
  {
   "cell_type": "code",
   "execution_count": 14,
   "metadata": {},
   "outputs": [],
   "source": [
    "from langchain_core.prompts import ChatPromptTemplate\n",
    "\n",
    "template = ChatPromptTemplate.from_messages([\n",
    "    (\"system\", \"Act like a doctor and answer my questions\"),\n",
    "    (\"user\", \"{input}\")\n",
    "])\n"
   ]
  },
  {
   "cell_type": "markdown",
   "metadata": {},
   "source": [
    "#### Template Processing Example"
   ]
  },
  {
   "cell_type": "code",
   "execution_count": 15,
   "metadata": {},
   "outputs": [
    {
     "data": {
      "text/plain": [
       "[SystemMessage(content='Act like a doctor and answer my questions', additional_kwargs={}, response_metadata={}),\n",
       " HumanMessage(content='I am having fever', additional_kwargs={}, response_metadata={})]"
      ]
     },
     "execution_count": 15,
     "metadata": {},
     "output_type": "execute_result"
    }
   ],
   "source": [
    "template.invoke({\"input\": \"I am having fever\"}).to_messages()"
   ]
  },
  {
   "cell_type": "markdown",
   "metadata": {},
   "source": [
    "#### Output parser"
   ]
  },
  {
   "cell_type": "code",
   "execution_count": 12,
   "metadata": {},
   "outputs": [],
   "source": [
    "from langchain_core.output_parsers import StrOutputParser\n",
    "\n",
    "output_parser = StrOutputParser()"
   ]
  },
  {
   "cell_type": "markdown",
   "metadata": {},
   "source": [
    "#### Create chain \n",
    "- Sequence of execution when user sends a prompt\n",
    "- Using LCEL - Langchain Expression Language |"
   ]
  },
  {
   "cell_type": "code",
   "execution_count": 13,
   "metadata": {},
   "outputs": [
    {
     "data": {
      "text/markdown": [
       "I'm sorry to hear that you're not feeling well. Here are some general steps you can take:\n",
       "\n",
       "1. **Hydrate**: Drink plenty of fluids, like water, herbal teas, or clear broths. Dehydration can worsen headaches and fever.\n",
       "\n",
       "2. **Rest**: Try to rest as much as possible. Your body needs energy to fight off whatever is causing your symptoms.\n",
       "\n",
       "3. **Over-the-counter medications**: You might consider taking over-the-counter medications such as acetaminophen (Tylenol) or ibuprofen (Advil, Motrin) to help reduce fever and alleviate pain. Be sure to follow the dosage instructions on the package.\n",
       "\n",
       "4. **Cool compress**: Applying a cool, damp cloth to your forehead might help alleviate headache pain.\n",
       "\n",
       "5. **Monitor symptoms**: Keep an eye on your symptoms. If your fever is high (over 101.3°F or 38.5°C), persistent, or if you have additional symptoms like a stiff neck, rash, severe headache, chest pain, difficulty breathing, or if you feel very unwell, seek medical attention promptly.\n",
       "\n",
       "6. **Avoiding triggers**: Sometimes headaches can be triggered by things like bright lights, loud noises, or certain foods. Avoiding these can help reduce headache intensity.\n",
       "\n",
       "7. **Consult a healthcare provider**: If your headache and fever persist, worsen, or if you have any concerns about your symptoms, it's important to consult a healthcare provider for a proper diagnosis and treatment.\n",
       "\n",
       "Remember, these are general recommendations and not a substitute for professional medical advice tailored to your specific situation. If you're unsure or your symptoms are severe, it's best to seek medical attention."
      ],
      "text/plain": [
       "<IPython.core.display.Markdown object>"
      ]
     },
     "execution_count": 13,
     "metadata": {},
     "output_type": "execute_result"
    }
   ],
   "source": [
    "from IPython.display import Markdown\n",
    "\n",
    "chain = template | llm | output_parser\n",
    "Markdown(chain.invoke({\"input\": \"I am having headache and my body is warm, what to do?\"}))"
   ]
  },
  {
   "cell_type": "code",
   "execution_count": 14,
   "metadata": {},
   "outputs": [
    {
     "data": {
      "text/plain": [
       "ChatPromptTemplate(input_variables=['input'], input_types={}, partial_variables={}, messages=[SystemMessagePromptTemplate(prompt=PromptTemplate(input_variables=[], input_types={}, partial_variables={}, template='Act like a doctor and answer my questions'), additional_kwargs={}), HumanMessagePromptTemplate(prompt=PromptTemplate(input_variables=['input'], input_types={}, partial_variables={}, template='{input}'), additional_kwargs={})])\n",
       "| ChatOpenAI(client=<openai.resources.chat.completions.Completions object at 0x0000025EAAC94DF0>, async_client=<openai.resources.chat.completions.AsyncCompletions object at 0x0000025EAAD841C0>, root_client=<openai.OpenAI object at 0x0000025EAAC94730>, root_async_client=<openai.AsyncOpenAI object at 0x0000025EAAC96590>, model_name='gpt-4o', model_kwargs={}, openai_api_key=SecretStr('**********'))\n",
       "| StrOutputParser()"
      ]
     },
     "execution_count": 14,
     "metadata": {},
     "output_type": "execute_result"
    }
   ],
   "source": [
    "chain"
   ]
  }
 ],
 "metadata": {
  "kernelspec": {
   "display_name": "Python 3",
   "language": "python",
   "name": "python3"
  },
  "language_info": {
   "codemirror_mode": {
    "name": "ipython",
    "version": 3
   },
   "file_extension": ".py",
   "mimetype": "text/x-python",
   "name": "python",
   "nbconvert_exporter": "python",
   "pygments_lexer": "ipython3",
   "version": "3.10.0"
  }
 },
 "nbformat": 4,
 "nbformat_minor": 2
}
