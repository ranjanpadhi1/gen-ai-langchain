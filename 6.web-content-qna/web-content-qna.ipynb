{
 "cells": [
  {
   "cell_type": "markdown",
   "metadata": {},
   "source": [
    "## Web content search/query through LLM\n",
    "#### Retrieval augmented generation, or RAG\n",
    "- Load web content using `WebBaseLoader` and `bs4`\n",
    "- Create docs and divide into chunks using `RecursiveCharacterTextSplitter`\n",
    "- Initialize embedding `OpenAIEmbeddings` to create vector embeddings\n",
    "- Store to document chunks as vector store db (`Chroma`, `FAISS`) \n",
    "- Import and intialize LLM - `ChatOpenAI` with `gpt-4o` model\n",
    "- Create prompt template\n",
    "- Create chain to\n",
    "\n",
    "**PromptTemplate** is used to dynamically generate LLM prompts by embedding variables into a predefined structure\n",
    "- ChatPromptTemplate.`from_template(prompt)`\n",
    "    - Creates a chat template consisting of a single message assumed to be from the human.\n",
    "    - `prompt = \"\"\"Suggest a restaurant name in {country} that serves {cuisine} food.\"\"\"`\n",
    "- ChatPromptTemplate.`from_messages(prompt)`\n",
    "    - Create a chat prompt template from a variety of message formats.\n",
    "    - `prompt= [(\"system\", \"Act like a doctor and answer my questions\"),(\"user\", \"{input}\")`\n",
    "\n",
    "**Retriever** is an interface for fetching or retrieving relevant data from documents(chunks) or vector store\n",
    "\n",
    "**Chain** refers to a sequence of steps or components that are linked together to perform a more complex task using a language model.\n",
    "- Example - `prompt-template | llm | output-parser`\n"
   ]
  },
  {
   "cell_type": "markdown",
   "metadata": {},
   "source": [
    "#### Load -> Chunk -> Embed -> Store"
   ]
  },
  {
   "cell_type": "code",
   "execution_count": 40,
   "metadata": {},
   "outputs": [
    {
     "data": {
      "text/markdown": [
       "7. Why is real estate booming in Bangalore? \n",
       "\n",
       "Real estate is booming in Bangalore due to demand driven by the city's expanding population and relatively lower expense of living. According to Bangalore real estate trends 2024, many people are looking for opulent and easily accessible dwelling options. \n",
       "\n",
       "\n",
       "\n",
       "\n",
       "\n",
       "8. Will flat prices go up in Bangalore \n",
       "\n",
       "Yes, flat prices could go up in Bangalore, as the city has witnessed the most increase in house costs, at 7%, while Mumbai saw a 6% increase. In contrast, prices in Chennai and Hyderabad increased by 5% each in the first quarter of 2023. \n",
       "\n",
       "\n",
       "\n",
       "\n",
       "\n",
       "9. Why is house rent so expensive in Bangalore? \n",
       "\n",
       "House rent is so expensive in Bangalore due to employees’ return to work-from-office, creating a spike in demand for housing. Another reason is higher commute times that have forced professionals to pick residences close to their workplaces, typically concentrated in particular locations, increasing the demand for apartments."
      ],
      "text/plain": [
       "<IPython.core.display.Markdown object>"
      ]
     },
     "execution_count": 40,
     "metadata": {},
     "output_type": "execute_result"
    }
   ],
   "source": [
    "from langchain_community.document_loaders import WebBaseLoader\n",
    "from langchain_text_splitters import RecursiveCharacterTextSplitter\n",
    "from langchain_community.embeddings import OpenAIEmbeddings\n",
    "from langchain_community.vectorstores import FAISS\n",
    "from IPython.display import Markdown\n",
    "\n",
    "loader = WebBaseLoader(\"https://www.sobha.com/blog/bangalore-real-estate-market-trends/\")\n",
    "documents = loader.load()\n",
    "\n",
    "sp = RecursiveCharacterTextSplitter(chunk_size=1000, chunk_overlap=200)\n",
    "doc_chunks = sp.split_documents(documents)\n",
    "\n",
    "embeddings = OpenAIEmbeddings()\n",
    "db = FAISS.from_documents(doc_chunks, embeddings)\n",
    "\n",
    "Markdown(db.similarity_search('Why is Bangalore rent so costly?')[0].page_content)\n"
   ]
  },
  {
   "cell_type": "code",
   "execution_count": 41,
   "metadata": {},
   "outputs": [
    {
     "data": {
      "text/markdown": [
       "Comprehensive Urban Plan\n",
       "The Revised Master Plan 2041 aims to transform Bangalore into a ‘compact city’ by promoting development around public transport systems. This plan includes significant upgrades to metro and road infrastructure, ensuring enhanced support for the city’s growth.\n",
       "These infrastructure projects will drive the demand for housing, with estimates suggesting that more than 100,000 new residential units will be required by 2025. Improved connectivity and reduced travel time will make the city an even more attractive destination for businesses and residents alike."
      ],
      "text/plain": [
       "<IPython.core.display.Markdown object>"
      ]
     },
     "execution_count": 41,
     "metadata": {},
     "output_type": "execute_result"
    }
   ],
   "source": [
    "Markdown(db.similarity_search('who is the foreign minister of Bangladesh?')[0].page_content)"
   ]
  },
  {
   "cell_type": "markdown",
   "metadata": {},
   "source": [
    "#### Chat Prompt template"
   ]
  },
  {
   "cell_type": "code",
   "execution_count": 42,
   "metadata": {},
   "outputs": [],
   "source": [
    "from langchain_core.prompts import ChatPromptTemplate\n",
    "\n",
    "prompt = ChatPromptTemplate.from_template(\n",
    "    \"\"\"\n",
    "    Answer the following question based on the given context:\n",
    "    <context>\n",
    "    {context}\n",
    "    </context>\n",
    "    \"\"\"\n",
    ")"
   ]
  },
  {
   "cell_type": "markdown",
   "metadata": {},
   "source": [
    "#### Document Chain\n",
    "- *Processes a series of documents or text inputs to produce an output in stages*\n",
    "- *Useful for summarization, translation, or other step-by-step transformations.*\n",
    "- Stages - `Prompt Template -> LLM -> Output Parser`"
   ]
  },
  {
   "cell_type": "code",
   "execution_count": 43,
   "metadata": {},
   "outputs": [
    {
     "data": {
      "text/plain": [
       "RunnableBinding(bound=RunnableBinding(bound=RunnableAssign(mapper={\n",
       "  context: RunnableLambda(format_docs)\n",
       "}), config={'run_name': 'format_inputs'})\n",
       "| ChatPromptTemplate(input_variables=['context'], messages=[HumanMessagePromptTemplate(prompt=PromptTemplate(input_variables=['context'], template='\\n    Answer the following question based on the given context:\\n    <context>\\n    {context}\\n    </context>\\n    '))])\n",
       "| ChatOpenAI(client=<openai.resources.chat.completions.Completions object at 0x0000025030A13730>, async_client=<openai.resources.chat.completions.AsyncCompletions object at 0x0000025030A35720>, root_client=<openai.OpenAI object at 0x0000025030A36C80>, root_async_client=<openai.AsyncOpenAI object at 0x0000025030A137C0>, model_name='gpt-4o', openai_api_key=SecretStr('**********'), openai_proxy='')\n",
       "| StrOutputParser(), config={'run_name': 'stuff_documents_chain'})"
      ]
     },
     "execution_count": 43,
     "metadata": {},
     "output_type": "execute_result"
    }
   ],
   "source": [
    "from langchain_openai import ChatOpenAI\n",
    "from langchain.chains.combine_documents import create_stuff_documents_chain\n",
    "\n",
    "llm = ChatOpenAI(model=\"gpt-4o\")\n",
    "doc_chain = create_stuff_documents_chain(llm, prompt)\n",
    "doc_chain"
   ]
  },
  {
   "cell_type": "markdown",
   "metadata": {},
   "source": [
    "#### Vector Store Retriver and Retrival Chain\n",
    "- *To retrieve the context information through a Retriver (here it's from vector store db)*"
   ]
  },
  {
   "cell_type": "code",
   "execution_count": 44,
   "metadata": {},
   "outputs": [
    {
     "data": {
      "text/plain": [
       "RunnableBinding(bound=RunnableAssign(mapper={\n",
       "  context: RunnableBinding(bound=RunnableLambda(lambda x: x['input'])\n",
       "           | VectorStoreRetriever(tags=['FAISS', 'OpenAIEmbeddings'], vectorstore=<langchain_community.vectorstores.faiss.FAISS object at 0x0000025030A126E0>), config={'run_name': 'retrieve_documents'})\n",
       "})\n",
       "| RunnableAssign(mapper={\n",
       "    answer: RunnableBinding(bound=RunnableBinding(bound=RunnableAssign(mapper={\n",
       "              context: RunnableLambda(format_docs)\n",
       "            }), config={'run_name': 'format_inputs'})\n",
       "            | ChatPromptTemplate(input_variables=['context'], messages=[HumanMessagePromptTemplate(prompt=PromptTemplate(input_variables=['context'], template='\\n    Answer the following question based on the given context:\\n    <context>\\n    {context}\\n    </context>\\n    '))])\n",
       "            | ChatOpenAI(client=<openai.resources.chat.completions.Completions object at 0x0000025030A13730>, async_client=<openai.resources.chat.completions.AsyncCompletions object at 0x0000025030A35720>, root_client=<openai.OpenAI object at 0x0000025030A36C80>, root_async_client=<openai.AsyncOpenAI object at 0x0000025030A137C0>, model_name='gpt-4o', openai_api_key=SecretStr('**********'), openai_proxy='')\n",
       "            | StrOutputParser(), config={'run_name': 'stuff_documents_chain'})\n",
       "  }), config={'run_name': 'retrieval_chain'})"
      ]
     },
     "execution_count": 44,
     "metadata": {},
     "output_type": "execute_result"
    }
   ],
   "source": [
    "from langchain.chains import create_retrieval_chain\n",
    "\n",
    "retriever = db.as_retriever()\n",
    "# Used to retrieve from vector store\n",
    "chain = create_retrieval_chain(retriever, doc_chain)\n",
    "chain"
   ]
  },
  {
   "cell_type": "markdown",
   "metadata": {},
   "source": [
    "#### Query"
   ]
  },
  {
   "cell_type": "code",
   "execution_count": 46,
   "metadata": {},
   "outputs": [
    {
     "data": {
      "text/markdown": [
       "Real estate is booming in Bangalore due to the city's expanding population and relatively lower expense of living. Many people are also seeking opulent and easily accessible dwelling options, which further drives the demand."
      ],
      "text/plain": [
       "<IPython.core.display.Markdown object>"
      ]
     },
     "execution_count": 46,
     "metadata": {},
     "output_type": "execute_result"
    }
   ],
   "source": [
    "response = chain.invoke({\"input\": \"Is Bangalore rent going increase?\"})\n",
    "Markdown(response['answer'])"
   ]
  },
  {
   "cell_type": "code",
   "execution_count": 48,
   "metadata": {},
   "outputs": [
    {
     "data": {
      "text/markdown": [
       "Based on the given context, answer the following question:\n",
       "\n",
       "**Which areas in Bangalore are emerging as top investment zones due to their robust infrastructure, commercial vitality, and vibrant communities?**\n",
       "\n",
       "**Answer:**\n",
       "Areas such as Sarjapur Road, Bellandur, and Yelahanka are emerging as top investment zones in Bangalore due to their robust infrastructure, commercial vitality, and vibrant communities."
      ],
      "text/plain": [
       "<IPython.core.display.Markdown object>"
      ]
     },
     "execution_count": 48,
     "metadata": {},
     "output_type": "execute_result"
    }
   ],
   "source": [
    "response = chain.invoke({\"input\": \"Which areas are good for residential property investments?\"})\n",
    "Markdown(response['answer'])"
   ]
  },
  {
   "cell_type": "code",
   "execution_count": 55,
   "metadata": {},
   "outputs": [
    {
     "data": {
      "text/markdown": [
       "Which infrastructure projects in Bangalore are expected to enhance connectivity and support real estate development?\n",
       "\n",
       "The infrastructure projects in Bangalore expected to enhance connectivity and support real estate development include:\n",
       "\n",
       "1. **Bangalore Satellite Town Ring Road (STRR)**\n",
       "2. **Bangalore-Mysore Expressway**\n",
       "3. **Peripheral Ring Road**\n",
       "4. **NICE Road**\n",
       "5. **Bangalore-Chennai Expressway**\n",
       "6. **New metro lines connecting central business districts to Kempegowda International Airport**\n",
       "7. **Blue Line metro connecting Silk Board to Kempegowda International Airport (expected by mid-2026)**\n",
       "\n",
       "These projects aim to reduce travel time and congestion, making office locations more accessible and attractive, thus boosting the commercial real estate market."
      ],
      "text/plain": [
       "<IPython.core.display.Markdown object>"
      ]
     },
     "execution_count": 55,
     "metadata": {},
     "output_type": "execute_result"
    }
   ],
   "source": [
    "response = chain.invoke({\"input\": \"Which are major infra developments coming up?\"})\n",
    "Markdown(response['answer'])"
   ]
  }
 ],
 "metadata": {
  "kernelspec": {
   "display_name": "Python 3",
   "language": "python",
   "name": "python3"
  },
  "language_info": {
   "codemirror_mode": {
    "name": "ipython",
    "version": 3
   },
   "file_extension": ".py",
   "mimetype": "text/x-python",
   "name": "python",
   "nbconvert_exporter": "python",
   "pygments_lexer": "ipython3",
   "version": "3.10.0"
  }
 },
 "nbformat": 4,
 "nbformat_minor": 2
}
