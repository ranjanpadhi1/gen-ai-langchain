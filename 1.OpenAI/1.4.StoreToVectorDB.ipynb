{
 "cells": [
  {
   "cell_type": "markdown",
   "metadata": {},
   "source": [
    "## Store to VectorStore DB"
   ]
  },
  {
   "cell_type": "markdown",
   "metadata": {},
   "source": [
    "#### Load document and split"
   ]
  },
  {
   "cell_type": "code",
   "execution_count": 2,
   "metadata": {},
   "outputs": [],
   "source": [
    "from langchain_community.document_loaders import TextLoader\n",
    "from langchain_text_splitters import RecursiveCharacterTextSplitter\n",
    "\n",
    "# Load Document\n",
    "loader = TextLoader('../files/namo.txt')\n",
    "docs = loader.load()\n",
    "# Split into chunks\n",
    "sp = RecursiveCharacterTextSplitter(chunk_size=500, chunk_overlap=50)\n",
    "final_docs = sp.split_documents(docs)"
   ]
  },
  {
   "cell_type": "markdown",
   "metadata": {},
   "source": [
    "#### Convert docs into Vector embeddings and store to VectorStores"
   ]
  },
  {
   "cell_type": "code",
   "execution_count": 3,
   "metadata": {},
   "outputs": [],
   "source": [
    "from langchain_openai import OpenAIEmbeddings\n",
    "from langchain_community.vectorstores import Chroma\n",
    "\n",
    "# Load Embedding Model\n",
    "embeddings = OpenAIEmbeddings(model=\"text-embedding-3-large\")\n",
    "\n",
    "# Create Vector Embeddings and store to VectorStore DB\n",
    "db = Chroma.from_documents(final_docs, embeddings)\n"
   ]
  },
  {
   "cell_type": "markdown",
   "metadata": {},
   "source": [
    "#### Query Chroma DB"
   ]
  },
  {
   "cell_type": "code",
   "execution_count": 4,
   "metadata": {},
   "outputs": [
    {
     "data": {
      "text/plain": [
       "[Document(metadata={'source': '../files/namo.txt'}, page_content='Modi was born and raised in Vadnagar in northeastern Gujarat, where he completed his secondary education. He was introduced to the RSS at the age of eight. At the age of 18, he was married to Jashodaben Modi, whom he abandoned soon after, only publicly acknowledging her four decades later when legally required to do so. Modi became a full-time worker for the RSS in Gujarat in 1971. The RSS assigned him to the BJP in 1985 and he rose through the party hierarchy, becoming general secretary in'),\n",
       " Document(metadata={'source': '../files/namo.txt'}, page_content=\"In a custom traditional to Narendra Modi's caste, his family arranged a betrothal to Jashodaben Chimanlal Modi, leading to their marriage when she was 17 and he was 18.[58][59] Soon afterwards, he abandoned his wife,[60] and left home. The couple never divorced but the marriage was not in his public pronouncements for many decades.[59] In April 2014, shortly before the national election in which he gained power, Modi publicly affirmed he was married and that his spouse was Jashodaben.[61] A\"),\n",
       " Document(metadata={'source': '../files/namo.txt'}, page_content='married and that his spouse was Jashodaben.[61] A Modi biographer wrote that Modi kept the marriage a secret because he would not have been able to become a pracharak in the RSS, for which celibacy had once been a requirement.[62][63]'),\n",
       " Document(metadata={'source': '../files/namo.txt'}, page_content='Early life and education\\nNarendra Damodardas Modi was born on 17 September 1950 to a Gujarati Hindu family of oil presser (Modh-Ghanchi) which is an Other Backward Class (OBC) category[45][46] in Vadnagar, Mehsana district, Bombay State (present-day Gujarat). He was the third of six children born to Damodardas Mulchand Modi (c.\\u20091915–1989) and Hiraben Modi (1923–2022).[47][a][48]')]"
      ]
     },
     "execution_count": 4,
     "metadata": {},
     "output_type": "execute_result"
    }
   ],
   "source": [
    "db.similarity_search('wife of modi')"
   ]
  },
  {
   "cell_type": "code",
   "execution_count": 5,
   "metadata": {},
   "outputs": [
    {
     "data": {
      "text/plain": [
       "[Document(metadata={'source': '../files/namo.txt'}, page_content=\"When Modi was eight years old, he was introduced to the Rashtriya Swayamsevak Sangh (RSS) and began attending its local shakhas (training sessions). There, he met Lakshmanrao Inamdar, who inducted Modi as a balswayamsevak (junior cadet) in the RSS and became his political mentor.[55] While Modi was training with the RSS, he also met Vasant Gajendragadkar and Nathalal Jaghda, Bharatiya Jana Sangh leaders who in 1980 helped found the BJP's Gujarat unit.[56] As a teenager, he was enrolled in the\"),\n",
       " Document(metadata={'source': '../files/namo.txt'}, page_content=\"Modi became an RSS sambhag pracharak (regional organiser) in 1978, overseeing activities in Surat and Vadodara, and in 1979, he went to work for the RSS in Delhi, where he researched and wrote the RSS's history of the Emergency. Shortly after, he returned to Gujarat and in 1985, the RSS assigned him to the BJP. In 1987, Modi helped organise the BJP's campaign in the Ahmedabad municipal election, which the party won comfortably; according to biographers, Modi's planning was responsible for the\"),\n",
       " Document(metadata={'source': '../files/namo.txt'}, page_content='Modi was born and raised in Vadnagar in northeastern Gujarat, where he completed his secondary education. He was introduced to the RSS at the age of eight. At the age of 18, he was married to Jashodaben Modi, whom he abandoned soon after, only publicly acknowledging her four decades later when legally required to do so. Modi became a full-time worker for the RSS in Gujarat in 1971. The RSS assigned him to the BJP in 1985 and he rose through the party hierarchy, becoming general secretary in'),\n",
       " Document(metadata={'source': '../files/namo.txt'}, page_content='handling of the Gujarat riots, which have been cited as evidence of a majoritarian and exclusionary social agenda.[g]')]"
      ]
     },
     "execution_count": 5,
     "metadata": {},
     "output_type": "execute_result"
    }
   ],
   "source": [
    "db.similarity_search('rss')"
   ]
  },
  {
   "cell_type": "code",
   "execution_count": 6,
   "metadata": {},
   "outputs": [
    {
     "data": {
      "text/plain": [
       "[Document(metadata={'source': '../files/namo.txt'}, page_content=\"Modi had infrequently worked as a child in his father's tea business on the Vadnagar railway station platform, according to Modi and his neighbours.[49][50][51]\\n\\nModi completed his higher secondary education in Vadnagar in 1967; his teachers described him as an average student and a keen, gifted debater with an interest in theatre.[52] He preferred playing larger-than-life characters in theatrical productions, which has influenced his political image.[53][54]\"),\n",
       " Document(metadata={'source': '../files/namo.txt'}, page_content=\"worked in his uncle's canteen at Gujarat State Road Transport Corporation.[69]\"),\n",
       " Document(metadata={'source': '../files/namo.txt'}, page_content='unit.[56] As a teenager, he was enrolled in the National Cadet Corps.[57]'),\n",
       " Document(metadata={'source': '../files/namo.txt'}, page_content='mostly Muslim.[13] A Special Investigation Team appointed by the Supreme Court of India in 2012 found no evidence to initiate prosecution proceedings against him.[d] While his policies as chief minister were credited for encouraging economic growth, his administration was criticised for failing to significantly improve health, poverty and education indices in the state.[e]')]"
      ]
     },
     "execution_count": 6,
     "metadata": {},
     "output_type": "execute_result"
    }
   ],
   "source": [
    "db.similarity_search('tea')"
   ]
  },
  {
   "cell_type": "code",
   "execution_count": 7,
   "metadata": {},
   "outputs": [
    {
     "data": {
      "text/plain": [
       "[Document(metadata={'source': '../files/namo.txt'}, page_content='In 1978, Modi received a Bachelor of Arts (BA) degree in political science from the School of Open Learning[82] at the Delhi University.[62][83] In 1983, he received a Master of Arts (MA) degree in political science from Gujarat University, graduating with a first class[84][85] as an external distance learning student.[86] There is a controversy surrounding the authenticity of his BA and MA degrees.[87][88][i]'),\n",
       " Document(metadata={'source': '../files/namo.txt'}, page_content='mostly Muslim.[13] A Special Investigation Team appointed by the Supreme Court of India in 2012 found no evidence to initiate prosecution proceedings against him.[d] While his policies as chief minister were credited for encouraging economic growth, his administration was criticised for failing to significantly improve health, poverty and education indices in the state.[e]'),\n",
       " Document(metadata={'source': '../files/namo.txt'}, page_content='unit.[56] As a teenager, he was enrolled in the National Cadet Corps.[57]'),\n",
       " Document(metadata={'source': '../files/namo.txt'}, page_content='handling of the Gujarat riots, which have been cited as evidence of a majoritarian and exclusionary social agenda.[g]')]"
      ]
     },
     "execution_count": 7,
     "metadata": {},
     "output_type": "execute_result"
    }
   ],
   "source": [
    "db.similarity_search('qualification')"
   ]
  },
  {
   "cell_type": "code",
   "execution_count": null,
   "metadata": {},
   "outputs": [],
   "source": []
  }
 ],
 "metadata": {
  "kernelspec": {
   "display_name": "Python 3",
   "language": "python",
   "name": "python3"
  },
  "language_info": {
   "codemirror_mode": {
    "name": "ipython",
    "version": 3
   },
   "file_extension": ".py",
   "mimetype": "text/x-python",
   "name": "python",
   "nbconvert_exporter": "python",
   "pygments_lexer": "ipython3",
   "version": "3.10.0"
  }
 },
 "nbformat": 4,
 "nbformat_minor": 2
}
