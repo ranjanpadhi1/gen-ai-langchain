{
 "cells": [
  {
   "cell_type": "markdown",
   "metadata": {},
   "source": [
    "## Load -> Split -> Embed -> Store"
   ]
  },
  {
   "cell_type": "markdown",
   "metadata": {},
   "source": [
    "#### Code"
   ]
  },
  {
   "cell_type": "code",
   "execution_count": 3,
   "metadata": {},
   "outputs": [],
   "source": [
    "import os\n",
    "from dotenv import load_dotenv\n",
    "from langchain_community.document_loaders import TextLoader\n",
    "from langchain_text_splitters import RecursiveCharacterTextSplitter\n",
    "from langchain_openai import OpenAIEmbeddings\n",
    "from langchain_community.vectorstores import Chroma\n",
    "\n",
    "# Load env\n",
    "load_dotenv()\n",
    "os.environ[\"OPENAI_API_KEY\"] = os.getenv(\"OPENAI_API_KEY\")\n",
    "\n",
    "# Load Document\n",
    "loader = TextLoader('../files/namo.txt')\n",
    "docs = loader.load()\n",
    "\n",
    "# Split into Chunks\n",
    "sp = RecursiveCharacterTextSplitter(chunk_size=500, chunk_overlap=50)\n",
    "final_docs = sp.split_documents(docs)\n",
    "\n",
    "# Embedding\n",
    "embedding = OpenAIEmbeddings(model=\"text-embedding-3-large\")\n",
    "\n",
    "# Create Vector Embedding and Store to VectorStore\n",
    "db = Chroma.from_documents(final_docs, embedding)\n",
    "\n"
   ]
  },
  {
   "cell_type": "markdown",
   "metadata": {},
   "source": [
    "#### Query on VectorStore"
   ]
  },
  {
   "cell_type": "code",
   "execution_count": 8,
   "metadata": {},
   "outputs": [
    {
     "data": {
      "text/plain": [
       "[Document(metadata={'source': '../files/namo.txt'}, page_content='unit.[56] As a teenager, he was enrolled in the National Cadet Corps.[57]'),\n",
       " Document(metadata={'source': '../files/namo.txt'}, page_content='unit.[56] As a teenager, he was enrolled in the National Cadet Corps.[57]'),\n",
       " Document(metadata={'source': '../files/namo.txt'}, page_content='In 1978, Modi received a Bachelor of Arts (BA) degree in political science from the School of Open Learning[82] at the Delhi University.[62][83] In 1983, he received a Master of Arts (MA) degree in political science from Gujarat University, graduating with a first class[84][85] as an external distance learning student.[86] There is a controversy surrounding the authenticity of his BA and MA degrees.[87][88][i]'),\n",
       " Document(metadata={'source': '../files/namo.txt'}, page_content='In 1978, Modi received a Bachelor of Arts (BA) degree in political science from the School of Open Learning[82] at the Delhi University.[62][83] In 1983, he received a Master of Arts (MA) degree in political science from Gujarat University, graduating with a first class[84][85] as an external distance learning student.[86] There is a controversy surrounding the authenticity of his BA and MA degrees.[87][88][i]')]"
      ]
     },
     "execution_count": 8,
     "metadata": {},
     "output_type": "execute_result"
    }
   ],
   "source": [
    "db.similarity_search('education')"
   ]
  },
  {
   "cell_type": "code",
   "execution_count": 7,
   "metadata": {},
   "outputs": [
    {
     "data": {
      "text/plain": [
       "[Document(metadata={'source': '../files/namo.txt'}, page_content=\"Modi's planning was responsible for the win.[102][103] After L. K. Advani became president of the BJP in 1986, the RSS decided to place its members in important positions within the party; Modi's work during the Ahmedabad election led to his selection for this role. Modi was elected organising secretary of the BJP's Gujarat unit later in 1987.[104]\"),\n",
       " Document(metadata={'source': '../files/namo.txt'}, page_content=\"Modi's planning was responsible for the win.[102][103] After L. K. Advani became president of the BJP in 1986, the RSS decided to place its members in important positions within the party; Modi's work during the Ahmedabad election led to his selection for this role. Modi was elected organising secretary of the BJP's Gujarat unit later in 1987.[104]\"),\n",
       " Document(metadata={'source': '../files/namo.txt'}, page_content=\"In the 2014 Indian general election, Modi led the BJP to a parliamentary majority, the first for a party since 1984. His administration increased direct foreign investment, and reduced spending on healthcare, education, and social-welfare programmes. Modi began a high-profile sanitation campaign, controversially initiated a demonetisation of banknotes and introduced the Goods and Services Tax, and weakened or abolished environmental and labour laws. Modi's administration launched the 2019\"),\n",
       " Document(metadata={'source': '../files/namo.txt'}, page_content=\"In the 2014 Indian general election, Modi led the BJP to a parliamentary majority, the first for a party since 1984. His administration increased direct foreign investment, and reduced spending on healthcare, education, and social-welfare programmes. Modi began a high-profile sanitation campaign, controversially initiated a demonetisation of banknotes and introduced the Goods and Services Tax, and weakened or abolished environmental and labour laws. Modi's administration launched the 2019\")]"
      ]
     },
     "execution_count": 7,
     "metadata": {},
     "output_type": "execute_result"
    }
   ],
   "source": [
    "db.similarity_search('bjp')"
   ]
  },
  {
   "cell_type": "code",
   "execution_count": 9,
   "metadata": {},
   "outputs": [
    {
     "data": {
      "text/plain": [
       "[Document(metadata={'source': '../files/namo.txt'}, page_content='Modi was born and raised in Vadnagar in northeastern Gujarat, where he completed his secondary education. He was introduced to the RSS at the age of eight. At the age of 18, he was married to Jashodaben Modi, whom he abandoned soon after, only publicly acknowledging her four decades later when legally required to do so. Modi became a full-time worker for the RSS in Gujarat in 1971. The RSS assigned him to the BJP in 1985 and he rose through the party hierarchy, becoming general secretary in'),\n",
       " Document(metadata={'source': '../files/namo.txt'}, page_content='Modi was born and raised in Vadnagar in northeastern Gujarat, where he completed his secondary education. He was introduced to the RSS at the age of eight. At the age of 18, he was married to Jashodaben Modi, whom he abandoned soon after, only publicly acknowledging her four decades later when legally required to do so. Modi became a full-time worker for the RSS in Gujarat in 1971. The RSS assigned him to the BJP in 1985 and he rose through the party hierarchy, becoming general secretary in'),\n",
       " Document(metadata={'source': '../files/namo.txt'}, page_content=\"In a custom traditional to Narendra Modi's caste, his family arranged a betrothal to Jashodaben Chimanlal Modi, leading to their marriage when she was 17 and he was 18.[58][59] Soon afterwards, he abandoned his wife,[60] and left home. The couple never divorced but the marriage was not in his public pronouncements for many decades.[59] In April 2014, shortly before the national election in which he gained power, Modi publicly affirmed he was married and that his spouse was Jashodaben.[61] A\"),\n",
       " Document(metadata={'source': '../files/namo.txt'}, page_content=\"In a custom traditional to Narendra Modi's caste, his family arranged a betrothal to Jashodaben Chimanlal Modi, leading to their marriage when she was 17 and he was 18.[58][59] Soon afterwards, he abandoned his wife,[60] and left home. The couple never divorced but the marriage was not in his public pronouncements for many decades.[59] In April 2014, shortly before the national election in which he gained power, Modi publicly affirmed he was married and that his spouse was Jashodaben.[61] A\")]"
      ]
     },
     "execution_count": 9,
     "metadata": {},
     "output_type": "execute_result"
    }
   ],
   "source": [
    "db.similarity_search('wife of modi')"
   ]
  },
  {
   "cell_type": "code",
   "execution_count": null,
   "metadata": {},
   "outputs": [],
   "source": []
  }
 ],
 "metadata": {
  "kernelspec": {
   "display_name": "Python 3",
   "language": "python",
   "name": "python3"
  },
  "language_info": {
   "codemirror_mode": {
    "name": "ipython",
    "version": 3
   },
   "file_extension": ".py",
   "mimetype": "text/x-python",
   "name": "python",
   "nbconvert_exporter": "python",
   "pygments_lexer": "ipython3",
   "version": "3.10.0"
  }
 },
 "nbformat": 4,
 "nbformat_minor": 2
}
