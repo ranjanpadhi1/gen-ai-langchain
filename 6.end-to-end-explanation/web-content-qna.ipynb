{
 "cells": [
  {
   "cell_type": "markdown",
   "metadata": {},
   "source": [
    "## Q&A on a Website content through LLM\n",
    "#### Retrieval augmented generation, or RAG\n",
    "- Load web content using `WebBaseLoader` and `bs4`\n",
    "- Create docs and divide into chunks using `RecursiveCharacterTextSplitter`\n",
    "- Initialize embedding `OpenAIEmbeddings` to create vector embeddings\n",
    "- Store to document chunks as vector store db (`Chroma`, `FAISS`) \n",
    "- Import and intialize LLM - `ChatOpenAI` with `gpt-4o` model\n",
    "- Create prompt template\n",
    "- Create chain to\n",
    "\n",
    "**PromptTemplate** is used to dynamically generate LLM prompts by embedding variables into a predefined structure\n",
    "- ChatPromptTemplate.`from_template(prompt)`\n",
    "    - Creates a chat template consisting of a single message assumed to be from the human.\n",
    "    - `prompt = \"\"\"Suggest a restaurant name in {country} that serves {cuisine} food.\"\"\"`\n",
    "- ChatPromptTemplate.`from_messages(prompt)`\n",
    "    - Create a chat prompt template from a variety of message formats.\n",
    "    - `prompt= [(\"system\", \"Act like a doctor and answer my questions\"),(\"user\", \"{input}\")`\n",
    "\n",
    "**Retriever** \n",
    "- An interface for fetching or retrieving relevant data from documents(chunks) or vector store\n",
    "- VectorStore objects are not Runnables so cannot be integrated directly with LCEL, Retriver are Runnables which acts as bridge\n",
    "\n",
    "**Chain** \n",
    "- Refers to a sequence of steps or components that are linked together to perform a more complex task using LLMs.\n",
    "- Series of `Runnable` that are connected to ble executed together\n",
    "- Langchain provides LCEL - Langchain Expression Language to create chains easily with Runnables\n",
    "    - Example - `prompt-template | llm | output-parser`\n",
    "- https://python.langchain.com/v0.1/docs/modules/chains/\n"
   ]
  },
  {
   "cell_type": "markdown",
   "metadata": {},
   "source": [
    "#### Load -> Chunk -> Embed -> Store"
   ]
  },
  {
   "cell_type": "code",
   "execution_count": 11,
   "metadata": {},
   "outputs": [
    {
     "data": {
      "text/markdown": [
       "7. Why is real estate booming in Bangalore? \n",
       "\n",
       "Real estate is booming in Bangalore due to demand driven by the city's expanding population and relatively lower expense of living. According to Bangalore real estate trends 2024, many people are looking for opulent and easily accessible dwelling options. \n",
       "\n",
       "\n",
       "\n",
       "\n",
       "\n",
       "8. Will flat prices go up in Bangalore \n",
       "\n",
       "Yes, flat prices could go up in Bangalore, as the city has witnessed the most increase in house costs, at 7%, while Mumbai saw a 6% increase. In contrast, prices in Chennai and Hyderabad increased by 5% each in the first quarter of 2023. \n",
       "\n",
       "\n",
       "\n",
       "\n",
       "\n",
       "9. Why is house rent so expensive in Bangalore? \n",
       "\n",
       "House rent is so expensive in Bangalore due to employees’ return to work-from-office, creating a spike in demand for housing. Another reason is higher commute times that have forced professionals to pick residences close to their workplaces, typically concentrated in particular locations, increasing the demand for apartments."
      ],
      "text/plain": [
       "<IPython.core.display.Markdown object>"
      ]
     },
     "execution_count": 11,
     "metadata": {},
     "output_type": "execute_result"
    }
   ],
   "source": [
    "from langchain_community.document_loaders import WebBaseLoader\n",
    "from langchain_text_splitters import RecursiveCharacterTextSplitter\n",
    "from langchain_community.embeddings import OpenAIEmbeddings\n",
    "from langchain_community.vectorstores import FAISS\n",
    "from IPython.display import Markdown\n",
    "\n",
    "loader = WebBaseLoader(\"https://www.sobha.com/blog/bangalore-real-estate-market-trends/\")\n",
    "documents = loader.load()\n",
    "\n",
    "sp = RecursiveCharacterTextSplitter(chunk_size=1000, chunk_overlap=200)\n",
    "doc_chunks = sp.split_documents(documents)\n",
    "\n",
    "embeddings = OpenAIEmbeddings()\n",
    "db = FAISS.from_documents(doc_chunks, embeddings)\n",
    "\n",
    "Markdown(db.similarity_search('Why is Bangalore rent so costly?')[0].page_content)\n"
   ]
  },
  {
   "cell_type": "code",
   "execution_count": 12,
   "metadata": {},
   "outputs": [
    {
     "data": {
      "text/markdown": [
       "Comprehensive Urban Plan\n",
       "The Revised Master Plan 2041 aims to transform Bangalore into a ‘compact city’ by promoting development around public transport systems. This plan includes significant upgrades to metro and road infrastructure, ensuring enhanced support for the city’s growth.\n",
       "These infrastructure projects will drive the demand for housing, with estimates suggesting that more than 100,000 new residential units will be required by 2025. Improved connectivity and reduced travel time will make the city an even more attractive destination for businesses and residents alike."
      ],
      "text/plain": [
       "<IPython.core.display.Markdown object>"
      ]
     },
     "execution_count": 12,
     "metadata": {},
     "output_type": "execute_result"
    }
   ],
   "source": [
    "Markdown(db.similarity_search('who is the foreign minister of Bangladesh?')[0].page_content)"
   ]
  },
  {
   "cell_type": "markdown",
   "metadata": {},
   "source": [
    "#### Chat Prompt template"
   ]
  },
  {
   "cell_type": "code",
   "execution_count": 13,
   "metadata": {},
   "outputs": [],
   "source": [
    "from langchain_core.prompts import ChatPromptTemplate\n",
    "\n",
    "prompt = ChatPromptTemplate.from_template(\n",
    "    \"\"\"\n",
    "    Answer the following question based on the given context:\n",
    "    <context>\n",
    "    {context}\n",
    "    </context>\n",
    "    \"\"\"\n",
    ")"
   ]
  },
  {
   "cell_type": "markdown",
   "metadata": {},
   "source": [
    "#### Document Chain\n",
    "- *Processes a series of documents or text inputs to produce an output in stages*\n",
    "- *Useful for summarization, translation, or other step-by-step transformations.*\n",
    "- Stages - `Prompt Template -> LLM -> Output Parser`"
   ]
  },
  {
   "cell_type": "code",
   "execution_count": 14,
   "metadata": {},
   "outputs": [
    {
     "data": {
      "text/plain": [
       "RunnableBinding(bound=RunnableBinding(bound=RunnableAssign(mapper={\n",
       "  context: RunnableLambda(format_docs)\n",
       "}), kwargs={}, config={'run_name': 'format_inputs'}, config_factories=[])\n",
       "| ChatPromptTemplate(input_variables=['context'], input_types={}, partial_variables={}, messages=[HumanMessagePromptTemplate(prompt=PromptTemplate(input_variables=['context'], input_types={}, partial_variables={}, template='\\n    Answer the following question based on the given context:\\n    <context>\\n    {context}\\n    </context>\\n    '), additional_kwargs={})])\n",
       "| ChatOpenAI(client=<openai.resources.chat.completions.Completions object at 0x0000021CF8A6AC20>, async_client=<openai.resources.chat.completions.AsyncCompletions object at 0x0000021CF8A2F280>, root_client=<openai.OpenAI object at 0x0000021CF8A69D20>, root_async_client=<openai.AsyncOpenAI object at 0x0000021CF8A6AC50>, model_name='gpt-4o', model_kwargs={}, openai_api_key=SecretStr('**********'))\n",
       "| StrOutputParser(), kwargs={}, config={'run_name': 'stuff_documents_chain'}, config_factories=[])"
      ]
     },
     "execution_count": 14,
     "metadata": {},
     "output_type": "execute_result"
    }
   ],
   "source": [
    "from langchain_openai import ChatOpenAI\n",
    "from langchain.chains.combine_documents import create_stuff_documents_chain\n",
    "\n",
    "llm = ChatOpenAI(model=\"gpt-4o\")\n",
    "doc_chain = create_stuff_documents_chain(llm, prompt)\n",
    "doc_chain"
   ]
  },
  {
   "cell_type": "markdown",
   "metadata": {},
   "source": [
    "#### Vector Store Retriver and Retrival Chain\n",
    "- *To retrieve the context information through a Retriver (here it's from vector store db)*"
   ]
  },
  {
   "cell_type": "code",
   "execution_count": 15,
   "metadata": {},
   "outputs": [
    {
     "data": {
      "text/plain": [
       "RunnableBinding(bound=RunnableAssign(mapper={\n",
       "  context: RunnableBinding(bound=RunnableLambda(lambda x: x['input'])\n",
       "           | VectorStoreRetriever(tags=['FAISS', 'OpenAIEmbeddings'], vectorstore=<langchain_community.vectorstores.faiss.FAISS object at 0x0000021CF8A2D180>, search_kwargs={}), kwargs={}, config={'run_name': 'retrieve_documents'}, config_factories=[])\n",
       "})\n",
       "| RunnableAssign(mapper={\n",
       "    answer: RunnableBinding(bound=RunnableBinding(bound=RunnableAssign(mapper={\n",
       "              context: RunnableLambda(format_docs)\n",
       "            }), kwargs={}, config={'run_name': 'format_inputs'}, config_factories=[])\n",
       "            | ChatPromptTemplate(input_variables=['context'], input_types={}, partial_variables={}, messages=[HumanMessagePromptTemplate(prompt=PromptTemplate(input_variables=['context'], input_types={}, partial_variables={}, template='\\n    Answer the following question based on the given context:\\n    <context>\\n    {context}\\n    </context>\\n    '), additional_kwargs={})])\n",
       "            | ChatOpenAI(client=<openai.resources.chat.completions.Completions object at 0x0000021CF8A6AC20>, async_client=<openai.resources.chat.completions.AsyncCompletions object at 0x0000021CF8A2F280>, root_client=<openai.OpenAI object at 0x0000021CF8A69D20>, root_async_client=<openai.AsyncOpenAI object at 0x0000021CF8A6AC50>, model_name='gpt-4o', model_kwargs={}, openai_api_key=SecretStr('**********'))\n",
       "            | StrOutputParser(), kwargs={}, config={'run_name': 'stuff_documents_chain'}, config_factories=[])\n",
       "  }), kwargs={}, config={'run_name': 'retrieval_chain'}, config_factories=[])"
      ]
     },
     "execution_count": 15,
     "metadata": {},
     "output_type": "execute_result"
    }
   ],
   "source": [
    "from langchain.chains import create_retrieval_chain\n",
    "\n",
    "retriever = db.as_retriever()\n",
    "# Used to retrieve from vector store\n",
    "chain = create_retrieval_chain(retriever, doc_chain)\n",
    "chain"
   ]
  },
  {
   "cell_type": "markdown",
   "metadata": {},
   "source": [
    "#### Query"
   ]
  },
  {
   "cell_type": "code",
   "execution_count": 16,
   "metadata": {},
   "outputs": [
    {
     "data": {
      "text/markdown": [
       "Real estate is booming in Bangalore due to the city's expanding population and the relatively lower expense of living. Additionally, there is a high demand for opulent and easily accessible dwelling options, as noted in the Bangalore real estate trends for 2024."
      ],
      "text/plain": [
       "<IPython.core.display.Markdown object>"
      ]
     },
     "execution_count": 16,
     "metadata": {},
     "output_type": "execute_result"
    }
   ],
   "source": [
    "response = chain.invoke({\"input\": \"Is Bangalore rent going increase?\"})\n",
    "Markdown(response['answer'])"
   ]
  },
  {
   "cell_type": "code",
   "execution_count": 17,
   "metadata": {},
   "outputs": [
    {
     "data": {
      "text/markdown": [
       "Based on the provided context, here are the answers to potential questions about Bangalore's real estate market in 2024:\n",
       "\n",
       "1. **What are the anticipated price trends in Bangalore's property market for 2024?**\n",
       "   - Anticipated price trends indicate a steady rise in both residential and commercial property segments, especially in well-connected micro-markets.\n",
       "\n",
       "2. **Which areas in Bangalore are currently experiencing substantial growth and attracting considerable investment?**\n",
       "   - Areas like Whitefield, Sarjapur Road, North Bangalore, Bellandur, and Yelahanka are experiencing substantial growth and attracting considerable investment due to improved connectivity and infrastructure.\n",
       "\n",
       "3. **What is the significance of sustainability in Bangalore's new real estate projects?**\n",
       "   - Eco-friendly features and sustainable development are becoming increasingly important, with many new projects incorporating green building practices and renewable energy sources.\n",
       "\n",
       "4. **How is technology impacting Bangalore's real estate market?**\n",
       "   - Technology is playing a pivotal role in the market with the rise of PropTech, which includes virtual tours, online transactions, and digital property management solutions becoming more prevalent.\n",
       "\n",
       "5. **What trends are driving the demand for affordable housing in Bangalore?**\n",
       "   - The demand for affordable housing continues to grow, supported by government initiatives and incentives aimed at making housing more accessible to the middle and lower-income segments.\n",
       "\n",
       "6. **What are the key infrastructure developments in Bangalore that are expected to boost real estate values?**\n",
       "   - Key infrastructure developments include new metro lines and suburban rail corridors. Notable projects are the Blue Line metro connecting Silk Board to Kempegowda International Airport (expected to be completed by mid-2026) and the Peripheral Ring Road encircling the city.\n",
       "\n",
       "7. **Which locations are considered promising investment zones in Bangalore for 2024?**\n",
       "   - In 2024, promising investment zones include Sarjapur Road, Banashankari, Devanahalli, Thanisandra, and Panathur, due to their proximity to business hubs and strong infrastructure.\n",
       "\n",
       "8. **What is the expected rental yield in Bangalore's real estate market for 2024?**\n",
       "   - The expected rental yields in Bangalore's real estate market average between 5% and 7%.\n",
       "\n",
       "9. **How does Bangalore's IT industry influence its real estate market?**\n",
       "   - Bangalore's robust IT industry drives economic growth, boosting housing demand and making the city an attractive destination for real estate investments due to excellent rental yields.\n",
       "\n",
       "10. **What type of real estate developments are contributing to the boom in Bangalore's market in 2024?**\n",
       "    - High-end office spaces, luxury homes, new roads, and metro lines are contributing to the boom in Bangalore's real estate market in 2024."
      ],
      "text/plain": [
       "<IPython.core.display.Markdown object>"
      ]
     },
     "execution_count": 17,
     "metadata": {},
     "output_type": "execute_result"
    }
   ],
   "source": [
    "response = chain.invoke({\"input\": \"Which areas are good for residential property investments?\"})\n",
    "Markdown(response['answer'])"
   ]
  },
  {
   "cell_type": "code",
   "execution_count": 18,
   "metadata": {},
   "outputs": [
    {
     "data": {
      "text/markdown": [
       "How will the ongoing infrastructure developments in Bangalore impact the real estate market and connectivity in the city?\n",
       "\n",
       "The ongoing infrastructure developments in Bangalore are set to significantly impact the real estate market and connectivity within the city. Major projects such as new metro lines, suburban rail corridors, and expressways (like the Bengaluru-Chennai Expressway and Bangalore-Mysore Expressway) will enhance connectivity, reduce travel time, and alleviate congestion. These improvements will make office locations more accessible and attractive, thereby boosting commercial real estate values. Additionally, the development of satellite cities and the Peripheral Ring Road will support the city's expanding population and drive property demand, particularly in emerging hotspots like Sarjapur Road, Bellandur, and Yelahanka. Overall, these infrastructure upgrades will likely lead to increased investment and development in various neighborhoods, making Bangalore an even more appealing destination for both businesses and residents."
      ],
      "text/plain": [
       "<IPython.core.display.Markdown object>"
      ]
     },
     "execution_count": 18,
     "metadata": {},
     "output_type": "execute_result"
    }
   ],
   "source": [
    "response = chain.invoke({\"input\": \"Which are major infra developments coming up?\"})\n",
    "Markdown(response['answer'])"
   ]
  },
  {
   "cell_type": "code",
   "execution_count": 32,
   "metadata": {},
   "outputs": [
    {
     "name": "stdout",
     "output_type": "stream",
     "text": [
      "{'input': 'Which are major infra developments coming up?'}\n"
     ]
    },
    {
     "name": "stdout",
     "output_type": "stream",
     "text": [
      "{'context': [Document(metadata={'source': 'https://www.sobha.com/blog/bangalore-real-estate-market-trends/', 'title': 'Bangalore Real Estate Market Trends 2024', 'description': 'Discover the latest trends shaping the Bangalore real estate market in 2024. Stay informed for smart investment decisions.', 'language': 'en-US'}, page_content='Affordable Housing: \\nThis demand continues to grow, supported by government initiatives and incentives aimed at making housing more accessible to the middle and lower-income segments.\\n\\nImpact of Infrastructure Development: \\nMajor projects such as the Bengaluru-Chennai Expressway will significantly boost real estate development in certain areas, enhancing connectivity and driving property values.\\n\\nInfrastructure Developments and Connectivity in Bangalore\\nThe city is undergoing significant infrastructure development that will enhance connectivity and support its ever-expanding population. Let us explore some of the key projects in 2024 and beyond:\\n\\n\\nSatellite Cities and Ring Roads\\n\\nPlans are in place to develop satellite cities in Devanahalli, Doddaballapur, Nelamangala, and Bidadi. These towns will be connected by the under-construction Bangalore Satellite Town Ring Road (STRR) and the recently opened Bangalore-Mysore Expressway.'), Document(metadata={'source': 'https://www.sobha.com/blog/bangalore-real-estate-market-trends/', 'title': 'Bangalore Real Estate Market Trends 2024', 'description': 'Discover the latest trends shaping the Bangalore real estate market in 2024. Stay informed for smart investment decisions.', 'language': 'en-US'}, page_content='Infrastructure and Connectivity Developments\\nBangalore is witnessing transformative infrastructure projects aimed at enhancing connectivity and boosting the commercial real estate market. Key projects include new metro lines connecting important areas and central business districts to the Kempegowda International Airport.\\nPeripheral Ring Road, NICE Road, Bangalore-Chennai Expressway, Bangalore-Mysore Expressway, and CDP Road Network will significantly reduce travel time and congestion in & around the city, making office locations more accessible and attractive.'), Document(metadata={'source': 'https://www.sobha.com/blog/bangalore-real-estate-market-trends/', 'title': 'Bangalore Real Estate Market Trends 2024', 'description': 'Discover the latest trends shaping the Bangalore real estate market in 2024. Stay informed for smart investment decisions.', 'language': 'en-US'}, page_content='Emerging Hotspots\\nKey neighbourhoods such as Sarjapur Road, Bellandur, and Yelahanka are emerging as top investment zones due to their robust infrastructure, commercial vitality, and vibrant communities. These areas will continue attracting significant investment and development.\\n\\nInfrastructure Developments\\nBangalore is witnessing transformative infrastructure projects, including new metro lines and suburban rail corridors, which will enhance connectivity and boost real estate values. Notable projects include the Blue Line metro connecting Silk Board to Kempegowda International Airport (expected to be completed by mid-2026) and the Peripheral Ring Road encircling the city.'), Document(metadata={'source': 'https://www.sobha.com/blog/bangalore-real-estate-market-trends/', 'title': 'Bangalore Real Estate Market Trends 2024', 'description': 'Discover the latest trends shaping the Bangalore real estate market in 2024. Stay informed for smart investment decisions.', 'language': 'en-US'}, page_content='Comprehensive Urban Plan\\nThe Revised Master Plan 2041 aims to transform Bangalore into a ‘compact city’ by promoting development around public transport systems. This plan includes significant upgrades to metro and road infrastructure, ensuring enhanced support for the city’s growth.\\nThese infrastructure projects will drive the demand for housing, with estimates suggesting that more than 100,000 new residential units will be required by 2025. Improved connectivity and reduced travel time will make the city an even more attractive destination for businesses and residents alike.')]}\n",
      "{'answer': ''}\n",
      "{'answer': 'What'}\n",
      "{'answer': ' are'}\n",
      "{'answer': ' some'}\n",
      "{'answer': ' key'}\n",
      "{'answer': ' infrastructure'}\n",
      "{'answer': ' projects'}\n",
      "{'answer': ' in'}\n",
      "{'answer': ' Bangalore'}\n",
      "{'answer': ' aimed'}\n",
      "{'answer': ' at'}\n",
      "{'answer': ' enhancing'}\n",
      "{'answer': ' connectivity'}\n",
      "{'answer': '?\\n\\n'}\n",
      "{'answer': 'Key'}\n",
      "{'answer': ' infrastructure'}\n",
      "{'answer': ' projects'}\n",
      "{'answer': ' in'}\n",
      "{'answer': ' Bangalore'}\n",
      "{'answer': ' aimed'}\n",
      "{'answer': ' at'}\n",
      "{'answer': ' enhancing'}\n",
      "{'answer': ' connectivity'}\n",
      "{'answer': ' include'}\n",
      "{'answer': ':\\n\\n'}\n",
      "{'answer': '1'}\n",
      "{'answer': '.'}\n",
      "{'answer': ' **'}\n",
      "{'answer': 'B'}\n",
      "{'answer': 'angalore'}\n",
      "{'answer': ' Satellite'}\n",
      "{'answer': ' Town'}\n",
      "{'answer': ' Ring'}\n",
      "{'answer': ' Road'}\n",
      "{'answer': ' ('}\n",
      "{'answer': 'STR'}\n",
      "{'answer': 'R'}\n",
      "{'answer': ')**'}\n",
      "{'answer': ' and'}\n",
      "{'answer': ' **'}\n",
      "{'answer': 'B'}\n",
      "{'answer': 'angalore'}\n",
      "{'answer': '-M'}\n",
      "{'answer': 'ys'}\n",
      "{'answer': 'ore'}\n",
      "{'answer': ' Express'}\n",
      "{'answer': 'way'}\n",
      "{'answer': '**'}\n",
      "{'answer': ':'}\n",
      "{'answer': ' These'}\n",
      "{'answer': ' will'}\n",
      "{'answer': ' connect'}\n",
      "{'answer': ' satellite'}\n",
      "{'answer': ' cities'}\n",
      "{'answer': ' such'}\n",
      "{'answer': ' as'}\n",
      "{'answer': ' De'}\n",
      "{'answer': 'van'}\n",
      "{'answer': 'ah'}\n",
      "{'answer': 'alli'}\n",
      "{'answer': ','}\n",
      "{'answer': ' D'}\n",
      "{'answer': 'odd'}\n",
      "{'answer': 'ab'}\n",
      "{'answer': 'all'}\n",
      "{'answer': 'apur'}\n",
      "{'answer': ','}\n",
      "{'answer': ' Nel'}\n",
      "{'answer': 'amang'}\n",
      "{'answer': 'ala'}\n",
      "{'answer': ','}\n",
      "{'answer': ' and'}\n",
      "{'answer': ' B'}\n",
      "{'answer': 'idad'}\n",
      "{'answer': 'i'}\n",
      "{'answer': '.\\n\\n'}\n",
      "{'answer': '2'}\n",
      "{'answer': '.'}\n",
      "{'answer': ' **'}\n",
      "{'answer': 'Peripheral'}\n",
      "{'answer': ' Ring'}\n",
      "{'answer': ' Road'}\n",
      "{'answer': ','}\n",
      "{'answer': ' NICE'}\n",
      "{'answer': ' Road'}\n",
      "{'answer': ','}\n",
      "{'answer': ' Bangalore'}\n",
      "{'answer': '-Ch'}\n",
      "{'answer': 'ennai'}\n",
      "{'answer': ' Express'}\n",
      "{'answer': 'way'}\n",
      "{'answer': ','}\n",
      "{'answer': ' Bangalore'}\n",
      "{'answer': '-M'}\n",
      "{'answer': 'ys'}\n",
      "{'answer': 'ore'}\n",
      "{'answer': ' Express'}\n",
      "{'answer': 'way'}\n",
      "{'answer': ','}\n",
      "{'answer': ' and'}\n",
      "{'answer': ' CD'}\n",
      "{'answer': 'P'}\n",
      "{'answer': ' Road'}\n",
      "{'answer': ' Network'}\n",
      "{'answer': '**'}\n",
      "{'answer': ':'}\n",
      "{'answer': ' These'}\n",
      "{'answer': ' projects'}\n",
      "{'answer': ' will'}\n",
      "{'answer': ' significantly'}\n",
      "{'answer': ' reduce'}\n",
      "{'answer': ' travel'}\n",
      "{'answer': ' time'}\n",
      "{'answer': ' and'}\n",
      "{'answer': ' congestion'}\n",
      "{'answer': ' in'}\n",
      "{'answer': ' and'}\n",
      "{'answer': ' around'}\n",
      "{'answer': ' the'}\n",
      "{'answer': ' city'}\n",
      "{'answer': '.\\n\\n'}\n",
      "{'answer': '3'}\n",
      "{'answer': '.'}\n",
      "{'answer': ' **'}\n",
      "{'answer': 'New'}\n",
      "{'answer': ' Metro'}\n",
      "{'answer': ' Lines'}\n",
      "{'answer': '**'}\n",
      "{'answer': ':'}\n",
      "{'answer': ' These'}\n",
      "{'answer': ' include'}\n",
      "{'answer': ' lines'}\n",
      "{'answer': ' connecting'}\n",
      "{'answer': ' important'}\n",
      "{'answer': ' areas'}\n",
      "{'answer': ' and'}\n",
      "{'answer': ' central'}\n",
      "{'answer': ' business'}\n",
      "{'answer': ' districts'}\n",
      "{'answer': ' to'}\n",
      "{'answer': ' the'}\n",
      "{'answer': ' Kem'}\n",
      "{'answer': 'peg'}\n",
      "{'answer': 'ow'}\n",
      "{'answer': 'da'}\n",
      "{'answer': ' International'}\n",
      "{'answer': ' Airport'}\n",
      "{'answer': '.'}\n",
      "{'answer': ' Not'}\n",
      "{'answer': 'able'}\n",
      "{'answer': ' projects'}\n",
      "{'answer': ' include'}\n",
      "{'answer': ' the'}\n",
      "{'answer': ' Blue'}\n",
      "{'answer': ' Line'}\n",
      "{'answer': ' metro'}\n",
      "{'answer': ' connecting'}\n",
      "{'answer': ' Silk'}\n",
      "{'answer': ' Board'}\n",
      "{'answer': ' to'}\n",
      "{'answer': ' Kem'}\n",
      "{'answer': 'peg'}\n",
      "{'answer': 'ow'}\n",
      "{'answer': 'da'}\n",
      "{'answer': ' International'}\n",
      "{'answer': ' Airport'}\n",
      "{'answer': ','}\n",
      "{'answer': ' expected'}\n",
      "{'answer': ' to'}\n",
      "{'answer': ' be'}\n",
      "{'answer': ' completed'}\n",
      "{'answer': ' by'}\n",
      "{'answer': ' mid'}\n",
      "{'answer': '-'}\n",
      "{'answer': '202'}\n",
      "{'answer': '6'}\n",
      "{'answer': '.\\n\\n'}\n",
      "{'answer': '4'}\n",
      "{'answer': '.'}\n",
      "{'answer': ' **'}\n",
      "{'answer': 'Sub'}\n",
      "{'answer': 'urban'}\n",
      "{'answer': ' Rail'}\n",
      "{'answer': ' Corr'}\n",
      "{'answer': 'idors'}\n",
      "{'answer': '**'}\n",
      "{'answer': ':'}\n",
      "{'answer': ' These'}\n",
      "{'answer': ' will'}\n",
      "{'answer': ' further'}\n",
      "{'answer': ' enhance'}\n",
      "{'answer': ' connectivity'}\n",
      "{'answer': ' within'}\n",
      "{'answer': ' the'}\n",
      "{'answer': ' city'}\n",
      "{'answer': '.\\n\\n'}\n",
      "{'answer': '5'}\n",
      "{'answer': '.'}\n",
      "{'answer': ' **'}\n",
      "{'answer': 'Re'}\n",
      "{'answer': 'vised'}\n",
      "{'answer': ' Master'}\n",
      "{'answer': ' Plan'}\n",
      "{'answer': ' '}\n",
      "{'answer': '204'}\n",
      "{'answer': '1'}\n",
      "{'answer': '**'}\n",
      "{'answer': ':'}\n",
      "{'answer': ' This'}\n",
      "{'answer': ' comprehensive'}\n",
      "{'answer': ' urban'}\n",
      "{'answer': ' plan'}\n",
      "{'answer': ' promotes'}\n",
      "{'answer': ' development'}\n",
      "{'answer': ' around'}\n",
      "{'answer': ' public'}\n",
      "{'answer': ' transport'}\n",
      "{'answer': ' systems'}\n",
      "{'answer': ' and'}\n",
      "{'answer': ' includes'}\n",
      "{'answer': ' significant'}\n",
      "{'answer': ' upgrades'}\n",
      "{'answer': ' to'}\n",
      "{'answer': ' metro'}\n",
      "{'answer': ' and'}\n",
      "{'answer': ' road'}\n",
      "{'answer': ' infrastructure'}\n",
      "{'answer': '.'}\n",
      "{'answer': ''}\n"
     ]
    }
   ],
   "source": [
    "for chunk in chain.stream({\"input\": \"Which are major infra developments coming up?\"}):\n",
    "    print(chunk, sep=\"\", flush=True)"
   ]
  }
 ],
 "metadata": {
  "kernelspec": {
   "display_name": "Python 3",
   "language": "python",
   "name": "python3"
  },
  "language_info": {
   "codemirror_mode": {
    "name": "ipython",
    "version": 3
   },
   "file_extension": ".py",
   "mimetype": "text/x-python",
   "name": "python",
   "nbconvert_exporter": "python",
   "pygments_lexer": "ipython3",
   "version": "3.10.0"
  }
 },
 "nbformat": 4,
 "nbformat_minor": 2
}
