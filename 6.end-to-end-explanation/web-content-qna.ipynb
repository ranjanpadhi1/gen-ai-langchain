{
 "cells": [
  {
   "cell_type": "markdown",
   "metadata": {},
   "source": [
    "## Q&A on a Website content through LLM\n",
    "#### Retrieval augmented generation, or RAG\n",
    "- Load web content using `WebBaseLoader` and `bs4`\n",
    "- Create docs and divide into chunks using `RecursiveCharacterTextSplitter`\n",
    "- Initialize embedding `OpenAIEmbeddings` to create vector embeddings\n",
    "- Store to document chunks as vector store db (`Chroma`, `FAISS`) \n",
    "- Import and intialize LLM - `ChatOpenAI` with `gpt-4o` model\n",
    "- Create prompt template\n",
    "- Create chain to\n",
    "\n",
    "**PromptTemplate** is used to dynamically generate LLM prompts by embedding variables into a predefined structure\n",
    "- ChatPromptTemplate.`from_template(prompt)`\n",
    "    - Creates a chat template consisting of a single message assumed to be from the human.\n",
    "    - `prompt = \"\"\"Suggest a restaurant name in {country} that serves {cuisine} food.\"\"\"`\n",
    "- ChatPromptTemplate.`from_messages(prompt)`\n",
    "    - Create a chat prompt template from a variety of message formats.\n",
    "    - `prompt= [(\"system\", \"Act like a doctor and answer my questions\"),(\"user\", \"{input}\")`\n",
    "\n",
    "**Retriever** is an interface for fetching or retrieving relevant data from documents(chunks) or vector store\n",
    "\n",
    "**Chain** refers to a sequence of steps or components that are linked together to perform a more complex task using a language model.\n",
    "- Example - `prompt-template | llm | output-parser`\n",
    "- https://python.langchain.com/v0.1/docs/modules/chains/\n"
   ]
  },
  {
   "cell_type": "markdown",
   "metadata": {},
   "source": [
    "#### Load -> Chunk -> Embed -> Store"
   ]
  },
  {
   "cell_type": "code",
   "execution_count": 2,
   "metadata": {},
   "outputs": [
    {
     "name": "stderr",
     "output_type": "stream",
     "text": [
      "USER_AGENT environment variable not set, consider setting it to identify your requests.\n",
      "C:\\Users\\ranja\\AppData\\Local\\Temp\\ipykernel_26068\\2751792405.py:13: LangChainDeprecationWarning: The class `OpenAIEmbeddings` was deprecated in LangChain 0.0.9 and will be removed in 1.0. An updated version of the class exists in the :class:`~langchain-openai package and should be used instead. To use it run `pip install -U :class:`~langchain-openai` and import as `from :class:`~langchain_openai import OpenAIEmbeddings``.\n",
      "  embeddings = OpenAIEmbeddings()\n"
     ]
    },
    {
     "data": {
      "text/markdown": [
       "7. Why is real estate booming in Bangalore? \n",
       "\n",
       "Real estate is booming in Bangalore due to demand driven by the city's expanding population and relatively lower expense of living. According to Bangalore real estate trends 2024, many people are looking for opulent and easily accessible dwelling options. \n",
       "\n",
       "\n",
       "\n",
       "\n",
       "\n",
       "8. Will flat prices go up in Bangalore \n",
       "\n",
       "Yes, flat prices could go up in Bangalore, as the city has witnessed the most increase in house costs, at 7%, while Mumbai saw a 6% increase. In contrast, prices in Chennai and Hyderabad increased by 5% each in the first quarter of 2023. \n",
       "\n",
       "\n",
       "\n",
       "\n",
       "\n",
       "9. Why is house rent so expensive in Bangalore? \n",
       "\n",
       "House rent is so expensive in Bangalore due to employees’ return to work-from-office, creating a spike in demand for housing. Another reason is higher commute times that have forced professionals to pick residences close to their workplaces, typically concentrated in particular locations, increasing the demand for apartments."
      ],
      "text/plain": [
       "<IPython.core.display.Markdown object>"
      ]
     },
     "execution_count": 2,
     "metadata": {},
     "output_type": "execute_result"
    }
   ],
   "source": [
    "from langchain_community.document_loaders import WebBaseLoader\n",
    "from langchain_text_splitters import RecursiveCharacterTextSplitter\n",
    "from langchain_community.embeddings import OpenAIEmbeddings\n",
    "from langchain_community.vectorstores import FAISS\n",
    "from IPython.display import Markdown\n",
    "\n",
    "loader = WebBaseLoader(\"https://www.sobha.com/blog/bangalore-real-estate-market-trends/\")\n",
    "documents = loader.load()\n",
    "\n",
    "sp = RecursiveCharacterTextSplitter(chunk_size=1000, chunk_overlap=200)\n",
    "doc_chunks = sp.split_documents(documents)\n",
    "\n",
    "embeddings = OpenAIEmbeddings()\n",
    "db = FAISS.from_documents(doc_chunks, embeddings)\n",
    "\n",
    "Markdown(db.similarity_search('Why is Bangalore rent so costly?')[0].page_content)\n"
   ]
  },
  {
   "cell_type": "code",
   "execution_count": 3,
   "metadata": {},
   "outputs": [
    {
     "data": {
      "text/markdown": [
       "The Economic Impact of GIFT City on Gujarat and India\n",
       "September 21st, 2024\n",
       "\n",
       "\n",
       "\n",
       "\n",
       "\n",
       " \n",
       "\n",
       "\n",
       "Top 5 Reasons to Invest in SOBHA Infinia, Koramangala\n",
       "September 20th, 2024\n",
       "\n",
       "\n",
       " \n",
       "\n",
       "\n",
       "\n",
       "\n",
       "\n",
       "\n",
       "\n",
       "\n",
       "About SOBHA \n",
       "\n",
       "Mr P.N.C. Menon founded SOBHA Limited in 1995 with a clear vision to transform the way people perceive quality. Today, SOBHA is the most trusted brand and only backward integrated real estate player in the country.\n",
       "\n",
       "\n",
       " \n",
       "\n",
       "\n",
       "\n",
       "Flats for Sale in Kochi\n",
       "Flats in Thrissur\n",
       "Flats in Kozhikode(Calicut)\n",
       "Flats in Chennai\n",
       "Flats in Bengaluru\n",
       "Flats for Sale in Coimbatore\n",
       "Flats in Delhi-NCR\n",
       "Flats in GIFT City Gujarat\n",
       "Flats in Pune\n",
       "Flats in Mysuru\n",
       " \n",
       "\n",
       "\n",
       "\n",
       "CAREERS\n",
       "MEDIA CENTRE\n",
       "SUSTAINABILITY\n",
       "INVESTOR RELATIONS\n",
       "SOBHA SHARE PRICE\n",
       " \n",
       "\n",
       "GET IN TOUCH\n",
       "+91 80 46464500\n",
       "[email protected]\n",
       " \n",
       "\n",
       "\n",
       "\n",
       "\n",
       "\n",
       "\n",
       "\n",
       "\n",
       "\n",
       "\n",
       "\n",
       "\n",
       "\n",
       "\n",
       "\n",
       "© Copyright 2023 All rights reserved.\n",
       "\n",
       "\n",
       "\n",
       "\n",
       "Terms of Use\n",
       "Privacy Policy\n",
       "Disclaimer\n",
       "RERA Disclaimer\n",
       "Blog\n",
       "Sitemap"
      ],
      "text/plain": [
       "<IPython.core.display.Markdown object>"
      ]
     },
     "execution_count": 3,
     "metadata": {},
     "output_type": "execute_result"
    }
   ],
   "source": [
    "Markdown(db.similarity_search('who is the foreign minister of Bangladesh?')[0].page_content)"
   ]
  },
  {
   "cell_type": "markdown",
   "metadata": {},
   "source": [
    "#### Chat Prompt template"
   ]
  },
  {
   "cell_type": "code",
   "execution_count": 4,
   "metadata": {},
   "outputs": [],
   "source": [
    "from langchain_core.prompts import ChatPromptTemplate\n",
    "\n",
    "prompt = ChatPromptTemplate.from_template(\n",
    "    \"\"\"\n",
    "    Answer the following question based on the given context:\n",
    "    <context>\n",
    "    {context}\n",
    "    </context>\n",
    "    \"\"\"\n",
    ")"
   ]
  },
  {
   "cell_type": "markdown",
   "metadata": {},
   "source": [
    "#### Document Chain\n",
    "- *Processes a series of documents or text inputs to produce an output in stages*\n",
    "- *Useful for summarization, translation, or other step-by-step transformations.*\n",
    "- Stages - `Prompt Template -> LLM -> Output Parser`"
   ]
  },
  {
   "cell_type": "code",
   "execution_count": 5,
   "metadata": {},
   "outputs": [
    {
     "data": {
      "text/plain": [
       "RunnableBinding(bound=RunnableBinding(bound=RunnableAssign(mapper={\n",
       "  context: RunnableLambda(format_docs)\n",
       "}), kwargs={}, config={'run_name': 'format_inputs'}, config_factories=[])\n",
       "| ChatPromptTemplate(input_variables=['context'], input_types={}, partial_variables={}, messages=[HumanMessagePromptTemplate(prompt=PromptTemplate(input_variables=['context'], input_types={}, partial_variables={}, template='\\n    Answer the following question based on the given context:\\n    <context>\\n    {context}\\n    </context>\\n    '), additional_kwargs={})])\n",
       "| ChatOpenAI(client=<openai.resources.chat.completions.Completions object at 0x00000289C89BF460>, async_client=<openai.resources.chat.completions.AsyncCompletions object at 0x00000289C9A393C0>, root_client=<openai.OpenAI object at 0x00000289C894E9B0>, root_async_client=<openai.AsyncOpenAI object at 0x00000289C89BF490>, model_name='gpt-4o', model_kwargs={}, openai_api_key=SecretStr('**********'))\n",
       "| StrOutputParser(), kwargs={}, config={'run_name': 'stuff_documents_chain'}, config_factories=[])"
      ]
     },
     "execution_count": 5,
     "metadata": {},
     "output_type": "execute_result"
    }
   ],
   "source": [
    "from langchain_openai import ChatOpenAI\n",
    "from langchain.chains.combine_documents import create_stuff_documents_chain\n",
    "\n",
    "llm = ChatOpenAI(model=\"gpt-4o\")\n",
    "doc_chain = create_stuff_documents_chain(llm, prompt)\n",
    "doc_chain"
   ]
  },
  {
   "cell_type": "markdown",
   "metadata": {},
   "source": [
    "#### Vector Store Retriver and Retrival Chain\n",
    "- *To retrieve the context information through a Retriver (here it's from vector store db)*"
   ]
  },
  {
   "cell_type": "code",
   "execution_count": 6,
   "metadata": {},
   "outputs": [
    {
     "data": {
      "text/plain": [
       "RunnableBinding(bound=RunnableAssign(mapper={\n",
       "  context: RunnableBinding(bound=RunnableLambda(lambda x: x['input'])\n",
       "           | VectorStoreRetriever(tags=['FAISS', 'OpenAIEmbeddings'], vectorstore=<langchain_community.vectorstores.faiss.FAISS object at 0x00000289C7D48580>, search_kwargs={}), kwargs={}, config={'run_name': 'retrieve_documents'}, config_factories=[])\n",
       "})\n",
       "| RunnableAssign(mapper={\n",
       "    answer: RunnableBinding(bound=RunnableBinding(bound=RunnableAssign(mapper={\n",
       "              context: RunnableLambda(format_docs)\n",
       "            }), kwargs={}, config={'run_name': 'format_inputs'}, config_factories=[])\n",
       "            | ChatPromptTemplate(input_variables=['context'], input_types={}, partial_variables={}, messages=[HumanMessagePromptTemplate(prompt=PromptTemplate(input_variables=['context'], input_types={}, partial_variables={}, template='\\n    Answer the following question based on the given context:\\n    <context>\\n    {context}\\n    </context>\\n    '), additional_kwargs={})])\n",
       "            | ChatOpenAI(client=<openai.resources.chat.completions.Completions object at 0x00000289C89BF460>, async_client=<openai.resources.chat.completions.AsyncCompletions object at 0x00000289C9A393C0>, root_client=<openai.OpenAI object at 0x00000289C894E9B0>, root_async_client=<openai.AsyncOpenAI object at 0x00000289C89BF490>, model_name='gpt-4o', model_kwargs={}, openai_api_key=SecretStr('**********'))\n",
       "            | StrOutputParser(), kwargs={}, config={'run_name': 'stuff_documents_chain'}, config_factories=[])\n",
       "  }), kwargs={}, config={'run_name': 'retrieval_chain'}, config_factories=[])"
      ]
     },
     "execution_count": 6,
     "metadata": {},
     "output_type": "execute_result"
    }
   ],
   "source": [
    "from langchain.chains import create_retrieval_chain\n",
    "\n",
    "retriever = db.as_retriever()\n",
    "# Used to retrieve from vector store\n",
    "chain = create_retrieval_chain(retriever, doc_chain)\n",
    "chain"
   ]
  },
  {
   "cell_type": "markdown",
   "metadata": {},
   "source": [
    "#### Query"
   ]
  },
  {
   "cell_type": "code",
   "execution_count": 7,
   "metadata": {},
   "outputs": [
    {
     "data": {
      "text/markdown": [
       "Real estate is booming in Bangalore due to the city's expanding population and the relatively lower expense of living. Additionally, many people are looking for opulent and easily accessible dwelling options, driving demand in the market."
      ],
      "text/plain": [
       "<IPython.core.display.Markdown object>"
      ]
     },
     "execution_count": 7,
     "metadata": {},
     "output_type": "execute_result"
    }
   ],
   "source": [
    "response = chain.invoke({\"input\": \"Is Bangalore rent going increase?\"})\n",
    "Markdown(response['answer'])"
   ]
  },
  {
   "cell_type": "code",
   "execution_count": 8,
   "metadata": {},
   "outputs": [
    {
     "data": {
      "text/markdown": [
       "What are some emerging localities in Bangalore that are experiencing substantial growth in 2024?\n",
       "\n",
       "Emerging localities in Bangalore experiencing substantial growth in 2024 include Whitefield, Sarjapur Road, and North Bangalore. These areas are attracting considerable investment due to improved connectivity and infrastructure."
      ],
      "text/plain": [
       "<IPython.core.display.Markdown object>"
      ]
     },
     "execution_count": 8,
     "metadata": {},
     "output_type": "execute_result"
    }
   ],
   "source": [
    "response = chain.invoke({\"input\": \"Which areas are good for residential property investments?\"})\n",
    "Markdown(response['answer'])"
   ]
  },
  {
   "cell_type": "code",
   "execution_count": 9,
   "metadata": {},
   "outputs": [
    {
     "data": {
      "text/markdown": [
       "Based on the given context, what are some of the key infrastructure projects in Bangalore that are expected to enhance connectivity and boost real estate values?\n",
       "\n",
       "Some of the key infrastructure projects in Bangalore expected to enhance connectivity and boost real estate values include:\n",
       "\n",
       "1. **Bangalore Satellite Town Ring Road (STRR)** and Bangalore-Mysore Expressway, which will connect satellite cities like Devanahalli, Doddaballapur, Nelamangala, and Bidadi.\n",
       "   \n",
       "2. **New Metro Lines** connecting important areas and central business districts to Kempegowda International Airport, including the Blue Line metro from Silk Board to the airport, expected to be completed by mid-2026.\n",
       "\n",
       "3. **Peripheral Ring Road** and NICE Road, which will encircle the city and significantly reduce travel time and congestion.\n",
       "\n",
       "4. **Bangalore-Chennai Expressway** and CDP Road Network, which will further enhance connectivity and drive property values.\n",
       "\n",
       "5. Development plans under the **Revised Master Plan 2041**, aiming to transform Bangalore into a ‘compact city’ by promoting development around public transport systems and upgrading metro and road infrastructure.\n",
       "\n",
       "These projects will support the city’s growth, make office locations more accessible, and attract significant investment and development in emerging hotspots like Sarjapur Road, Bellandur, and Yelahanka."
      ],
      "text/plain": [
       "<IPython.core.display.Markdown object>"
      ]
     },
     "execution_count": 9,
     "metadata": {},
     "output_type": "execute_result"
    }
   ],
   "source": [
    "response = chain.invoke({\"input\": \"Which are major infra developments coming up?\"})\n",
    "Markdown(response['answer'])"
   ]
  }
 ],
 "metadata": {
  "kernelspec": {
   "display_name": "Python 3",
   "language": "python",
   "name": "python3"
  },
  "language_info": {
   "codemirror_mode": {
    "name": "ipython",
    "version": 3
   },
   "file_extension": ".py",
   "mimetype": "text/x-python",
   "name": "python",
   "nbconvert_exporter": "python",
   "pygments_lexer": "ipython3",
   "version": "3.10.0"
  }
 },
 "nbformat": 4,
 "nbformat_minor": 2
}
