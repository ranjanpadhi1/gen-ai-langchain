{
 "cells": [
  {
   "cell_type": "markdown",
   "metadata": {},
   "source": [
    "## Tools\n",
    "- Tools are interfaces than an Agent, Chain or LLM can use to interact with the world\n",
    "- Example - Web (Google Search, Weather, Yahoo Finance, Wikipedia, Youtube, Arxiv etc.)\n",
    "- https://python.langchain.com/v0.1/docs/integrations/tools/"
   ]
  },
  {
   "cell_type": "markdown",
   "metadata": {},
   "source": [
    "## Agents\n",
    "- The core idea of agents is to use a language model to choose a sequence of actions to take.\n",
    "-  In chains, a sequence of actions is hardcoded (in code). In agents, a language model is used as a reasoning engine to determine which actions to take and in which order.\n",
    "- https://python.langchain.com/v0.1/docs/modules/agents/"
   ]
  },
  {
   "cell_type": "code",
   "execution_count": null,
   "metadata": {},
   "outputs": [],
   "source": []
  }
 ],
 "metadata": {
  "language_info": {
   "name": "python"
  }
 },
 "nbformat": 4,
 "nbformat_minor": 2
}
