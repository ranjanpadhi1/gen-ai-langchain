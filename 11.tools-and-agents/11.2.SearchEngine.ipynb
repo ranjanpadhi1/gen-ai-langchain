{
 "cells": [
  {
   "cell_type": "markdown",
   "metadata": {},
   "source": [
    "## Search engine using Tools and Agents\n",
    "\n",
    "- Install `wikipedia` and `yfinance` library\n",
    "- Import tools `WikipediaQueryRun` and `YahooFinanceNewsTool`"
   ]
  },
  {
   "cell_type": "markdown",
   "metadata": {},
   "source": [
    "#### Import tools and utilities"
   ]
  },
  {
   "cell_type": "code",
   "execution_count": 14,
   "metadata": {},
   "outputs": [],
   "source": [
    "from langchain_community.tools import WikipediaQueryRun, YahooFinanceNewsTool\n",
    "from langchain_community.utilities import WikipediaAPIWrapper, GoogleSearchAPIWrapper"
   ]
  },
  {
   "cell_type": "markdown",
   "metadata": {},
   "source": [
    "#### Create Tools"
   ]
  },
  {
   "cell_type": "code",
   "execution_count": 19,
   "metadata": {},
   "outputs": [],
   "source": [
    "wiki_api_wrapper = WikipediaAPIWrapper(top_k_results=1, doc_content_chars_max=250)\n",
    "wiki_tool = WikipediaQueryRun(api_wrapper=wiki_api_wrapper)\n",
    "\n",
    "yahoo_fin_tool = YahooFinanceNewsTool()\n",
    "\n",
    "tools = [wiki_tool, yahoo_fin_tool]"
   ]
  },
  {
   "cell_type": "markdown",
   "metadata": {},
   "source": [
    "#### Create Custom RAG tool"
   ]
  },
  {
   "cell_type": "code",
   "execution_count": 20,
   "metadata": {},
   "outputs": [],
   "source": [
    "from langchain_community.document_loaders import PyPDFDirectoryLoader\n",
    "from langchain_text_splitters import RecursiveCharacterTextSplitter\n",
    "from langchain_huggingface.embeddings import HuggingFaceEmbeddings\n",
    "from langchain_community.vectorstores import FAISS\n",
    "from langchain.tools.retriever import create_retriever_tool\n",
    "\n",
    "docs = PyPDFDirectoryLoader(\"../files/health-reports\").load()\n",
    "\n",
    "sp = RecursiveCharacterTextSplitter(chunk_size=600, chunk_overlap=50)\n",
    "docs_chunks = sp.split_documents(docs)\n",
    "\n",
    "embeddings = HuggingFaceEmbeddings(model_name=\"all-MiniLM-L6-v2\")\n",
    "vector_store = FAISS.from_documents(docs, embeddings)\n",
    "\n",
    "retriever = vector_store.as_retriever()\n",
    "tag_tool = create_retriever_tool(retriever, \"health-report-tool\", \"Tool to reteive health information from PDF\")\n",
    "\n",
    "tools.append(tag_tool)"
   ]
  },
  {
   "cell_type": "code",
   "execution_count": 21,
   "metadata": {},
   "outputs": [
    {
     "data": {
      "text/plain": [
       "[WikipediaQueryRun(api_wrapper=WikipediaAPIWrapper(wiki_client=<module 'wikipedia' from 'd:\\\\Practice\\\\gen-ai-langchain\\\\venv\\\\lib\\\\site-packages\\\\wikipedia\\\\__init__.py'>, top_k_results=1, lang='en', load_all_available_meta=False, doc_content_chars_max=250)),\n",
       " YahooFinanceNewsTool(),\n",
       " Tool(name='health-report-tool', description='Tool to reteive health information from PDF', args_schema=<class 'langchain_core.tools.retriever.RetrieverInput'>, func=functools.partial(<function _get_relevant_documents at 0x000001B17F5DF010>, retriever=VectorStoreRetriever(tags=['FAISS', 'HuggingFaceEmbeddings'], vectorstore=<langchain_community.vectorstores.faiss.FAISS object at 0x000001B171032FB0>, search_kwargs={}), document_prompt=PromptTemplate(input_variables=['page_content'], input_types={}, partial_variables={}, template='{page_content}'), document_separator='\\n\\n'), coroutine=functools.partial(<function _aget_relevant_documents at 0x000001B17F97E680>, retriever=VectorStoreRetriever(tags=['FAISS', 'HuggingFaceEmbeddings'], vectorstore=<langchain_community.vectorstores.faiss.FAISS object at 0x000001B171032FB0>, search_kwargs={}), document_prompt=PromptTemplate(input_variables=['page_content'], input_types={}, partial_variables={}, template='{page_content}'), document_separator='\\n\\n'))]"
      ]
     },
     "execution_count": 21,
     "metadata": {},
     "output_type": "execute_result"
    }
   ],
   "source": [
    "tools"
   ]
  },
  {
   "cell_type": "markdown",
   "metadata": {},
   "source": [
    "#### Run all Tools with Agents and LLMs"
   ]
  },
  {
   "cell_type": "code",
   "execution_count": 22,
   "metadata": {},
   "outputs": [],
   "source": [
    "from langchain_groq import ChatGroq"
   ]
  },
  {
   "cell_type": "code",
   "execution_count": 23,
   "metadata": {},
   "outputs": [
    {
     "data": {
      "text/plain": [
       "ChatGroq(client=<groq.resources.chat.completions.Completions object at 0x000001B172B956F0>, async_client=<groq.resources.chat.completions.AsyncCompletions object at 0x000001B16FCB85E0>, model_name='llama-3.1-70b-versatile', model_kwargs={}, groq_api_key=SecretStr('**********'))"
      ]
     },
     "execution_count": 23,
     "metadata": {},
     "output_type": "execute_result"
    }
   ],
   "source": [
    "llm = ChatGroq(model=\"llama-3.1-70b-versatile\")\n",
    "llm"
   ]
  },
  {
   "cell_type": "markdown",
   "metadata": {},
   "source": [
    "Import agent Prompt template"
   ]
  },
  {
   "cell_type": "code",
   "execution_count": 24,
   "metadata": {},
   "outputs": [
    {
     "data": {
      "text/plain": [
       "[SystemMessagePromptTemplate(prompt=PromptTemplate(input_variables=[], input_types={}, partial_variables={}, template='You are a helpful assistant'), additional_kwargs={}),\n",
       " MessagesPlaceholder(variable_name='chat_history', optional=True),\n",
       " HumanMessagePromptTemplate(prompt=PromptTemplate(input_variables=['input'], input_types={}, partial_variables={}, template='{input}'), additional_kwargs={}),\n",
       " MessagesPlaceholder(variable_name='agent_scratchpad')]"
      ]
     },
     "execution_count": 24,
     "metadata": {},
     "output_type": "execute_result"
    }
   ],
   "source": [
    "from langchain import hub\n",
    "# Import PromptTemplate from langchain \n",
    "prompt = hub.pull(\"hwchase17/openai-functions-agent\")\n",
    "prompt.messages"
   ]
  },
  {
   "cell_type": "markdown",
   "metadata": {},
   "source": [
    "Create Agent"
   ]
  },
  {
   "cell_type": "code",
   "execution_count": 25,
   "metadata": {},
   "outputs": [
    {
     "data": {
      "text/plain": [
       "RunnableAssign(mapper={\n",
       "  agent_scratchpad: RunnableLambda(lambda x: format_to_openai_tool_messages(x['intermediate_steps']))\n",
       "})\n",
       "| ChatPromptTemplate(input_variables=['agent_scratchpad', 'input'], optional_variables=['chat_history'], input_types={'chat_history': list[typing.Annotated[typing.Union[typing.Annotated[langchain_core.messages.ai.AIMessage, Tag(tag='ai')], typing.Annotated[langchain_core.messages.human.HumanMessage, Tag(tag='human')], typing.Annotated[langchain_core.messages.chat.ChatMessage, Tag(tag='chat')], typing.Annotated[langchain_core.messages.system.SystemMessage, Tag(tag='system')], typing.Annotated[langchain_core.messages.function.FunctionMessage, Tag(tag='function')], typing.Annotated[langchain_core.messages.tool.ToolMessage, Tag(tag='tool')], typing.Annotated[langchain_core.messages.ai.AIMessageChunk, Tag(tag='AIMessageChunk')], typing.Annotated[langchain_core.messages.human.HumanMessageChunk, Tag(tag='HumanMessageChunk')], typing.Annotated[langchain_core.messages.chat.ChatMessageChunk, Tag(tag='ChatMessageChunk')], typing.Annotated[langchain_core.messages.system.SystemMessageChunk, Tag(tag='SystemMessageChunk')], typing.Annotated[langchain_core.messages.function.FunctionMessageChunk, Tag(tag='FunctionMessageChunk')], typing.Annotated[langchain_core.messages.tool.ToolMessageChunk, Tag(tag='ToolMessageChunk')]], FieldInfo(annotation=NoneType, required=True, discriminator=Discriminator(discriminator=<function _get_type at 0x000001B17BABA050>, custom_error_type=None, custom_error_message=None, custom_error_context=None))]], 'agent_scratchpad': list[typing.Annotated[typing.Union[typing.Annotated[langchain_core.messages.ai.AIMessage, Tag(tag='ai')], typing.Annotated[langchain_core.messages.human.HumanMessage, Tag(tag='human')], typing.Annotated[langchain_core.messages.chat.ChatMessage, Tag(tag='chat')], typing.Annotated[langchain_core.messages.system.SystemMessage, Tag(tag='system')], typing.Annotated[langchain_core.messages.function.FunctionMessage, Tag(tag='function')], typing.Annotated[langchain_core.messages.tool.ToolMessage, Tag(tag='tool')], typing.Annotated[langchain_core.messages.ai.AIMessageChunk, Tag(tag='AIMessageChunk')], typing.Annotated[langchain_core.messages.human.HumanMessageChunk, Tag(tag='HumanMessageChunk')], typing.Annotated[langchain_core.messages.chat.ChatMessageChunk, Tag(tag='ChatMessageChunk')], typing.Annotated[langchain_core.messages.system.SystemMessageChunk, Tag(tag='SystemMessageChunk')], typing.Annotated[langchain_core.messages.function.FunctionMessageChunk, Tag(tag='FunctionMessageChunk')], typing.Annotated[langchain_core.messages.tool.ToolMessageChunk, Tag(tag='ToolMessageChunk')]], FieldInfo(annotation=NoneType, required=True, discriminator=Discriminator(discriminator=<function _get_type at 0x000001B17BABA050>, custom_error_type=None, custom_error_message=None, custom_error_context=None))]]}, partial_variables={'chat_history': []}, metadata={'lc_hub_owner': 'hwchase17', 'lc_hub_repo': 'openai-functions-agent', 'lc_hub_commit_hash': 'a1655024b06afbd95d17449f21316291e0726f13dcfaf990cc0d18087ad689a5'}, messages=[SystemMessagePromptTemplate(prompt=PromptTemplate(input_variables=[], input_types={}, partial_variables={}, template='You are a helpful assistant'), additional_kwargs={}), MessagesPlaceholder(variable_name='chat_history', optional=True), HumanMessagePromptTemplate(prompt=PromptTemplate(input_variables=['input'], input_types={}, partial_variables={}, template='{input}'), additional_kwargs={}), MessagesPlaceholder(variable_name='agent_scratchpad')])\n",
       "| RunnableBinding(bound=ChatGroq(client=<groq.resources.chat.completions.Completions object at 0x000001B172B956F0>, async_client=<groq.resources.chat.completions.AsyncCompletions object at 0x000001B16FCB85E0>, model_name='llama-3.1-70b-versatile', model_kwargs={}, groq_api_key=SecretStr('**********')), kwargs={'tools': [{'type': 'function', 'function': {'name': 'wikipedia', 'description': 'A wrapper around Wikipedia. Useful for when you need to answer general questions about people, places, companies, facts, historical events, or other subjects. Input should be a search query.', 'parameters': {'properties': {'query': {'description': 'query to look up on wikipedia', 'type': 'string'}}, 'required': ['query'], 'type': 'object'}}}, {'type': 'function', 'function': {'name': 'yahoo_finance_news', 'description': 'Useful for when you need to find financial news about a public company. Input should be a company ticker. For example, AAPL for Apple, MSFT for Microsoft.', 'parameters': {'properties': {'query': {'description': 'company ticker query to look up', 'type': 'string'}}, 'required': ['query'], 'type': 'object'}}}, {'type': 'function', 'function': {'name': 'health-report-tool', 'description': 'Tool to reteive health information from PDF', 'parameters': {'properties': {'query': {'description': 'query to look up in retriever', 'type': 'string'}}, 'required': ['query'], 'type': 'object'}}}]}, config={}, config_factories=[])\n",
       "| OpenAIToolsAgentOutputParser()"
      ]
     },
     "execution_count": 25,
     "metadata": {},
     "output_type": "execute_result"
    }
   ],
   "source": [
    "from langchain.agents import create_openai_tools_agent\n",
    "\n",
    "agent = create_openai_tools_agent(llm, tools, prompt)\n",
    "agent"
   ]
  },
  {
   "cell_type": "markdown",
   "metadata": {},
   "source": [
    "Create Agent executor       "
   ]
  },
  {
   "cell_type": "code",
   "execution_count": 26,
   "metadata": {},
   "outputs": [],
   "source": [
    "from langchain.agents import AgentExecutor\n",
    "\n",
    "executor = AgentExecutor(agent=agent, tools=tools, verbose=True)"
   ]
  },
  {
   "cell_type": "code",
   "execution_count": 28,
   "metadata": {},
   "outputs": [
    {
     "name": "stderr",
     "output_type": "stream",
     "text": [
      "Error in StdOutCallbackHandler.on_chain_start callback: AttributeError(\"'NoneType' object has no attribute 'get'\")\n"
     ]
    },
    {
     "name": "stdout",
     "output_type": "stream",
     "text": [
      "\u001b[32;1m\u001b[1;3m\n",
      "Invoking: `health-report-tool` with `{'query': 'Ranjan'}`\n",
      "\n",
      "\n",
      "\u001b[0m\u001b[38;5;200m\u001b[1;3mName                               : MR TRUPTI RANJAN PADHI\n",
      "Registration No              : MH013948892\n",
      "Patient Episode              : H01000137707\n",
      "Referred By                    : HC MHW\n",
      "Receiving Date               : 13 Sep 2024 08:24Age                    : 33 Yr(s) Sex :Male\n",
      "Lab No              : 21240900934\n",
      "Collection Date : 13 Sep 2024 07:29\n",
      "Reporting Date : 13 Sep 2024 11:01\n",
      "BLOOD BANK\n",
      " \n",
      " \n",
      "    Blood Group & Rh Typing (Agglutination by gel/tube technique)  Specimen-Blood \n",
      " \n",
      "    Anti A                   Negative               Anti D                   Positive \n",
      "    Anti B                   Negative               Ctr                      Negative \n",
      "    Anti A1                  Negative               A1 Cell                  Positive \n",
      "    Anti H                   Positive               B Cell                   Positive \n",
      "                                                    O Cell                   Negative \n",
      " \n",
      "    Blood Group & Rh typing                O Rh(D) Positive \n",
      " \n",
      "    Technical note: \n",
      "      ABO grouping and Rh typing is done by cell and serum grouping by microplate / gel   \n",
      "      technique. \n",
      "Page1 of 1\n",
      " ----------------------------END OF REPORT---------------------------\n",
      "Dr Rutvi Modh\n",
      "MD Immunohematology & blood Transfusion\n",
      "KMC No. 176373\n",
      "\n",
      "Name                               : MR TRUPTI RANJAN PADHI\n",
      "Registration No              : MH013948892\n",
      "Patient Episode              : H01000137707\n",
      "Referred By                    : HC MHW\n",
      "Receiving Date               : 13 Sep 2024 08:56Age                    : 33 Yr(s) Sex :Male\n",
      "Lab No              : 22240905729\n",
      "Collection Date : 13 Sep 2024 07:29\n",
      "Reporting Date : 13 Sep 2024 10:14\n",
      "BIOCHEMISTRY\n",
      " \n",
      " \n",
      " \n",
      "  LIPID PROFILE                                         Specimen: Serum \n",
      "  TOTAL CHOLESTEROL (CHOD/POD)               229 #      mg/dl        [<200] \n",
      "                                                                     Moderate risk:200-239 \n",
      "                                                                     High risk:>240 \n",
      "  TRIGLYCERIDES (GPO/POD)                    283 #      mg/dl        [<150] \n",
      "                                                                     Borderline high:151-199 \n",
      "                                                                     High: 200 - 499 \n",
      "                                                                     Very high:>500 \n",
      "  HDL - CHOLESTEROL (Enzymatic)               42        mg/dl        [30-60] \n",
      "  VLDL - Cholesterol (Calculated)             57 #      mg/dl        [10-40] \n",
      "  LDL- CHOLESTEROL  (Enzymatic)              165 #      mg/dl        [<100] \n",
      "                                                                     Near/Above optimal-100-129 \n",
      "                                                                     Borderline High:130-159 \n",
      "                                                                     High Risk:160-189 \n",
      "  T.Chol/HDL.Chol ratio (Calculated)         5.5                     <4.0 Optimal \n",
      "                                                                     4.0-5.0 Borderline \n",
      "                                                                     >6 High Risk \n",
      " \n",
      "  LDL.CHOL/HDL.CHOL Ratio (Calculated)       3.9                     <3 Optimal \n",
      "                                                                     3-4 Borderline \n",
      "                                                                     >6 High Risk \n",
      " \n",
      " \n",
      "  Note: \n",
      "  Reference  ranges based on ATP III Classifications. \n",
      "  Recommended to do fasting Lipid Profile after a minimum of 8 hours of overnight fasting. \n",
      "Page4 of 5\n",
      "\n",
      "Name                               : MR TRUPTI RANJAN PADHI\n",
      "Registration No              : MH013948892\n",
      "Patient Episode              : H01000137707\n",
      "Referred By                    : HC MHW\n",
      "Receiving Date               : 13 Sep 2024 08:56Age                    : 33 Yr(s) Sex :Male\n",
      "Lab No              : 22240905729\n",
      "Collection Date : 13 Sep 2024 07:29\n",
      "Reporting Date : 13 Sep 2024 10:15\n",
      "BIOCHEMISTRY\n",
      " \n",
      " \n",
      " \n",
      "  Serum LIVER FUNCTION TEST                             Specimen: Serum \n",
      " \n",
      "  BILIRUBIN-TOTAL (Diazo)**                 0.70        mg/dl         [0.00-1.20] \n",
      "  BILIRUBIN - DIRECT (Diazo)                0.09        mg/dl         [0.00-0.40] \n",
      "  BILIRUBIN - INDIRECT (Calculated)         0.61        mg/dl         [0.00-1.60] \n",
      "  SGOT/ AST(Without P5P,IFCC)               52.0 #      U/L           [<50.0] \n",
      "  Serum SGPT/ ALT(Without P5P,IFCC)        136.0 #      U/L           [18.0-78.0] \n",
      "  ALP (p-NPP,kinetic)*                      97.0        U/L           [50.0-116.0] \n",
      "  TOTAL PROTEIN (mod.Biuret)                 8.0        g/dl          [6.6-8.3] \n",
      "  SERUM ALBUMIN (BCG-dye)                    4.7        g/dl          [3.5-5.2] \n",
      "  SERUM GLOBULIN (Calculated)                3.3        g/dl          [1.8-3.4] \n",
      "  ALB/GLOB (A/G) Ratio                      1.42                      [1.10-1.80] \n",
      "  GGT (GCNA-IFCC)                             48        U/L           [<55] \n",
      " \n",
      "  Note: \n",
      "  **NEW BORN:Vary according to age (days), body wt & gestation of baby \n",
      "  *New born: 4 times the adult value \n",
      "Page5 of 5\n",
      " ----------------------------END OF REPORT---------------------------\n",
      "Dr Spoorthy Gurajala\n",
      "MD DNB (Pathology) KMC No. 108539\n",
      "\n",
      "Name                               : MR TRUPTI RANJAN PADHI\n",
      "Registration No              : MH013948892\n",
      "Patient Episode              : H01000137707\n",
      "Referred By                    : HC MHW\n",
      "Receiving Date               : 13 Sep 2024 08:38Age                    : 33 Yr(s) Sex :Male\n",
      "Lab No              : 23240903921\n",
      "Collection Date : 13 Sep 2024 07:29\n",
      "Reporting Date : 13 Sep 2024 09:56\n",
      "HAEMATOLOGY\n",
      " \n",
      " \n",
      " \n",
      "  ERYTHROCYTE SEDIMENTATION RATE((Modified Westergren)            Specimen- EDTA Whole Blood \n",
      " \n",
      "  Erythrocyte Sedimentation Rate(Modified Westergren)       10  mm/1sthour       [0-20] \n",
      "Page1 of 1\n",
      " ----------------------------END OF REPORT---------------------------\n",
      "Dr Spoorthy Gurajala\n",
      "MD DNB (Pathology) KMC No. 108539\u001b[0m\u001b[32;1m\u001b[1;3mBased on the provided health reports, here are the key findings:\n",
      "\n",
      "1. Blood Group and Rh Typing: The patient's blood group is O Rh(D) Positive.\n",
      "2. Lipid Profile: The patient's lipid profile shows elevated levels of total cholesterol (229 mg/dl), triglycerides (283 mg/dl), and LDL cholesterol (165 mg/dl). The HDL cholesterol level is 42 mg/dl. The total cholesterol to HDL cholesterol ratio is 5.5, and the LDL to HDL cholesterol ratio is 3.9. These values indicate a moderate to high risk of cardiovascular disease.\n",
      "3. Liver Function Test: The patient's liver function test shows elevated levels of SGOT/AST (52.0 U/L) and SGPT/ALT (136.0 U/L). These values indicate liver damage or inflammation.\n",
      "4. Erythrocyte Sedimentation Rate (ESR): The patient's ESR is 10 mm/1st hour, which is within the normal range.\n",
      "\n",
      "Overall, the patient's health reports indicate that they have elevated lipid levels and liver enzymes, which may indicate a risk of cardiovascular disease and liver damage. However, the ESR is within the normal range, which suggests that there is no significant inflammation in the body. It is recommended that the patient consult with their doctor to discuss the results and determine the best course of action.\u001b[0m\n",
      "\n",
      "\u001b[1m> Finished chain.\u001b[0m\n"
     ]
    },
    {
     "data": {
      "text/plain": [
       "{'input': \"How is Ranjan's health?\",\n",
       " 'output': \"Based on the provided health reports, here are the key findings:\\n\\n1. Blood Group and Rh Typing: The patient's blood group is O Rh(D) Positive.\\n2. Lipid Profile: The patient's lipid profile shows elevated levels of total cholesterol (229 mg/dl), triglycerides (283 mg/dl), and LDL cholesterol (165 mg/dl). The HDL cholesterol level is 42 mg/dl. The total cholesterol to HDL cholesterol ratio is 5.5, and the LDL to HDL cholesterol ratio is 3.9. These values indicate a moderate to high risk of cardiovascular disease.\\n3. Liver Function Test: The patient's liver function test shows elevated levels of SGOT/AST (52.0 U/L) and SGPT/ALT (136.0 U/L). These values indicate liver damage or inflammation.\\n4. Erythrocyte Sedimentation Rate (ESR): The patient's ESR is 10 mm/1st hour, which is within the normal range.\\n\\nOverall, the patient's health reports indicate that they have elevated lipid levels and liver enzymes, which may indicate a risk of cardiovascular disease and liver damage. However, the ESR is within the normal range, which suggests that there is no significant inflammation in the body. It is recommended that the patient consult with their doctor to discuss the results and determine the best course of action.\"}"
      ]
     },
     "execution_count": 28,
     "metadata": {},
     "output_type": "execute_result"
    }
   ],
   "source": [
    "executor.invoke({\"input\": \"How is Ranjan's health?\"})"
   ]
  },
  {
   "cell_type": "code",
   "execution_count": 35,
   "metadata": {},
   "outputs": [
    {
     "name": "stderr",
     "output_type": "stream",
     "text": [
      "Error in StdOutCallbackHandler.on_chain_start callback: AttributeError(\"'NoneType' object has no attribute 'get'\")\n"
     ]
    },
    {
     "name": "stdout",
     "output_type": "stream",
     "text": [
      "\u001b[32;1m\u001b[1;3m\n",
      "Invoking: `wikipedia` with `{'query': 'Narendra Modi'}`\n",
      "\n",
      "\n",
      "\u001b[0m\u001b[36;1m\u001b[1;3mPage: Narendra Modi\n",
      "Summary: Narendra Damodardas Modi (Gujarati: [ˈnəɾendɾə dɑmodəɾˈdɑs ˈmodiː] ; born 17 September 1950) is an Indian politician serving as the current prime minister of India since 26 May 2014. Modi was the chief minister of Gujarat\u001b[0m\u001b[32;1m\u001b[1;3mNarendra Modi is an Indian politician who is currently serving as the Prime Minister of India. He was born on September 17, 1950, and has been in office since May 26, 2014. Prior to becoming Prime Minister, Modi served as the Chief Minister of Gujarat.\u001b[0m\n",
      "\n",
      "\u001b[1m> Finished chain.\u001b[0m\n"
     ]
    },
    {
     "data": {
      "text/plain": [
       "{'input': 'Who is Modi?',\n",
       " 'output': 'Narendra Modi is an Indian politician who is currently serving as the Prime Minister of India. He was born on September 17, 1950, and has been in office since May 26, 2014. Prior to becoming Prime Minister, Modi served as the Chief Minister of Gujarat.'}"
      ]
     },
     "execution_count": 35,
     "metadata": {},
     "output_type": "execute_result"
    }
   ],
   "source": [
    "executor.invoke({\"input\": \"Who is Modi?\"})"
   ]
  },
  {
   "cell_type": "code",
   "execution_count": 36,
   "metadata": {},
   "outputs": [
    {
     "name": "stderr",
     "output_type": "stream",
     "text": [
      "Error in StdOutCallbackHandler.on_chain_start callback: AttributeError(\"'NoneType' object has no attribute 'get'\")\n"
     ]
    },
    {
     "name": "stdout",
     "output_type": "stream",
     "text": [
      "\u001b[32;1m\u001b[1;3m\n",
      "Invoking: `yahoo_finance_news` with `{'query': 'AAPL'}`\n",
      "\n",
      "\n",
      "\u001b[0m\u001b[33;1m\u001b[1;3mWarren Buffett Sold Half of Apple (AAPL) Shares in Q3\n",
      "Vltava Fund, an investment management company, recently released its third-quarter 2024 investor letter. A copy of the letter can be downloaded here. The portfolio had a surprisingly favorable July and a negative September. The last quarter saw significant movements in stocks overall. The first part of August saw the most market volatility. The major stock […]\n",
      "\n",
      "Cramer Says 'Hot Money' Flowing From Nvidia, Apple Into China, Focus On Alibaba 'If You Must'\n",
      "Jim Cramer is sounding the alarm, but not in the way you might expect. For those bullish on Nvidia Corp (NASDAQ:NVDA) and Apple Inc (NASDAQ:AAPL), Cramer's latest take might be hard to swallow. Hot Money Streaming Out Of Nvidia, Apple In a tweet, ...\u001b[0m\u001b[32;1m\u001b[1;3mAAPL stock market news was found, however, the current stock price was not present.\u001b[0m\n",
      "\n",
      "\u001b[1m> Finished chain.\u001b[0m\n"
     ]
    },
    {
     "data": {
      "text/plain": [
       "{'input': 'How is AAPL Stock Market today?',\n",
       " 'output': 'AAPL stock market news was found, however, the current stock price was not present.'}"
      ]
     },
     "execution_count": 36,
     "metadata": {},
     "output_type": "execute_result"
    }
   ],
   "source": [
    "executor.invoke({\"input\": \"How is AAPL Stock today?\"})"
   ]
  }
 ],
 "metadata": {
  "kernelspec": {
   "display_name": "Python 3",
   "language": "python",
   "name": "python3"
  },
  "language_info": {
   "codemirror_mode": {
    "name": "ipython",
    "version": 3
   },
   "file_extension": ".py",
   "mimetype": "text/x-python",
   "name": "python",
   "nbconvert_exporter": "python",
   "pygments_lexer": "ipython3",
   "version": "3.10.0"
  }
 },
 "nbformat": 4,
 "nbformat_minor": 2
}
