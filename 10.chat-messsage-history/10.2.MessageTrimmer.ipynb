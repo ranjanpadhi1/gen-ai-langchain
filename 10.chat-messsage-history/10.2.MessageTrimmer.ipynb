{
 "cells": [
  {
   "cell_type": "code",
   "execution_count": 7,
   "metadata": {},
   "outputs": [
    {
     "ename": "SyntaxError",
     "evalue": "invalid syntax (533723486.py, line 14)",
     "output_type": "error",
     "traceback": [
      "\u001b[1;36m  Cell \u001b[1;32mIn[8], line 14\u001b[1;36m\u001b[0m\n\u001b[1;33m    for async chunk in stream:\u001b[0m\n\u001b[1;37m        ^\u001b[0m\n\u001b[1;31mSyntaxError\u001b[0m\u001b[1;31m:\u001b[0m invalid syntax\n"
     ]
    }
   ],
   "source": [
    "from langchain_openai import ChatOpenAI\n",
    "from langchain.schema import HumanMessage\n",
    "\n",
    "# Initialize the chat model with streaming enabled\n",
    "chat = ChatOpenAI(model_name=\"gpt-3.5-turbo\", streaming=True)\n",
    "\n",
    "# Define the conversation\n",
    "messages = [HumanMessage(content=\"Tell me about Kafka in distributed systems.\")]\n",
    "\n",
    "# Get the stream of responses\n",
    "stream = chat(messages)\n",
    "\n",
    "# Iterate over the streamed response chunks\n",
    "for chunk in stream:\n",
    "    print(chunk.content, end='', flush=True)"
   ]
  }
 ],
 "metadata": {
  "kernelspec": {
   "display_name": "Python 3",
   "language": "python",
   "name": "python3"
  },
  "language_info": {
   "codemirror_mode": {
    "name": "ipython",
    "version": 3
   },
   "file_extension": ".py",
   "mimetype": "text/x-python",
   "name": "python",
   "nbconvert_exporter": "python",
   "pygments_lexer": "ipython3",
   "version": "3.10.0"
  }
 },
 "nbformat": 4,
 "nbformat_minor": 2
}
