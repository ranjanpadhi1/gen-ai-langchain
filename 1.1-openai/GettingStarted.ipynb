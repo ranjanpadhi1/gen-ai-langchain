{
 "cells": [
  {
   "cell_type": "markdown",
   "metadata": {},
   "source": [
    "#### Getting started with Langchain and Open AI\n",
    "1.Setup Langchain (LangSmith)\n",
    "- Sign up on 'https://www.langchain.com/'\n",
    "- Create API Key and add to .env\n",
    "\n",
    "2.Setup Open AI\n",
    "- Sign up on 'https://platform.openai.com'\n",
    "- Create API Key and add to .env\n",
    "\n"
   ]
  }
 ],
 "metadata": {
  "kernelspec": {
   "display_name": "Python 3",
   "language": "python",
   "name": "python3"
  },
  "language_info": {
   "codemirror_mode": {
    "name": "ipython",
    "version": 3
   },
   "file_extension": ".py",
   "mimetype": "text/x-python",
   "name": "python",
   "nbconvert_exporter": "python",
   "pygments_lexer": "ipython3",
   "version": "3.10.0"
  }
 },
 "nbformat": 4,
 "nbformat_minor": 2
}
