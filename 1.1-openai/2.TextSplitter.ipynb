{
 "cells": [
  {
   "cell_type": "markdown",
   "metadata": {},
   "source": [
    "## Text Splitter"
   ]
  },
  {
   "cell_type": "code",
   "execution_count": 19,
   "metadata": {},
   "outputs": [],
   "source": [
    "from langchain_community.document_loaders import TextLoader\n",
    "from langchain_text_splitters import RecursiveCharacterTextSplitter"
   ]
  },
  {
   "cell_type": "code",
   "execution_count": 20,
   "metadata": {},
   "outputs": [],
   "source": [
    "loader = TextLoader('../files/gen_ai.txt')\n",
    "docs = loader.load()\n",
    "text_docs = [d.page_content for d in docs]"
   ]
  },
  {
   "cell_type": "markdown",
   "metadata": {},
   "source": [
    "#### Text Splitter with chunk_size(characters) and overlap"
   ]
  },
  {
   "cell_type": "code",
   "execution_count": 21,
   "metadata": {},
   "outputs": [
    {
     "data": {
      "text/plain": [
       "[Document(page_content='Generative artificial intelligence (generative AI, GenAI,[1] or GAI) is artificial intelligence'),\n",
       " Document(page_content='is artificial intelligence capable of generating text, images, videos, or other data using'),\n",
       " Document(page_content='videos, or other data using generative models,[2] often in response to prompts.[3][4] Generative AI'),\n",
       " Document(page_content='prompts.[3][4] Generative AI models learn the patterns and structure of their input training data'),\n",
       " Document(page_content='of their input training data and then generate new data that has similar characteristics.[5][6]'),\n",
       " Document(page_content='Improvements in transformer-based deep neural networks, particularly large language models (LLMs),'),\n",
       " Document(page_content='large language models (LLMs), enabled an AI boom of generative AI systems in the early 2020s. These'),\n",
       " Document(page_content='in the early 2020s. These include chatbots such as ChatGPT, Copilot, Gemini and LLaMA,'),\n",
       " Document(page_content='Copilot, Gemini and LLaMA, text-to-image artificial intelligence image generation systems such as'),\n",
       " Document(page_content='generation systems such as Stable Diffusion, Midjourney and DALL-E, and text-to-video AI generators'),\n",
       " Document(page_content='text-to-video AI generators such as Sora.[7][8][9][10] Companies such as OpenAI, Anthropic,'),\n",
       " Document(page_content='such as OpenAI, Anthropic, Microsoft, Google, and Baidu as well as numerous smaller firms have'),\n",
       " Document(page_content='numerous smaller firms have developed generative AI models.[3][11][12]'),\n",
       " Document(page_content='Generative AI has uses across a wide range of industries, including software development,'),\n",
       " Document(page_content='software development, healthcare, finance, entertainment, customer service,[13] sales and'),\n",
       " Document(page_content='service,[13] sales and marketing,[14] art, writing,[15] fashion,[16] and product design.[17]'),\n",
       " Document(page_content='and product design.[17] However, concerns have been raised about the potential misuse of generative'),\n",
       " Document(page_content='misuse of generative AI such as cybercrime, the use of fake news or deepfakes to deceive or'),\n",
       " Document(page_content='or deepfakes to deceive or manipulate people, and the mass replacement of human jobs.[18][19]'),\n",
       " Document(page_content='Download a browser extension to get new features and help us improve Wikipedia'),\n",
       " Document(page_content='No thanksGo to download'),\n",
       " Document(page_content='This anonymous survey is conducted by the Wikimedia Foundation. Read more or check the privacy'),\n",
       " Document(page_content='more or check the privacy statement To stop QuickSurveys from appearing, change your preferences.'),\n",
       " Document(page_content='History\\nMain article: History of artificial intelligence'),\n",
       " Document(page_content='The academic discipline of artificial intelligence was established at a research workshop held at'),\n",
       " Document(page_content='a research workshop held at Dartmouth College in 1956 and has experienced several waves of'),\n",
       " Document(page_content='experienced several waves of advancement and optimism in the decades since.[20] Since its'),\n",
       " Document(page_content='decades since.[20] Since its inception, researchers in the field have raised philosophical and'),\n",
       " Document(page_content='have raised philosophical and ethical arguments about the nature of the human mind and the'),\n",
       " Document(page_content='of the human mind and the consequences of creating artificial beings with human-like intelligence;'),\n",
       " Document(page_content='with human-like intelligence; these issues have previously been explored by myth, fiction and'),\n",
       " Document(page_content='explored by myth, fiction and philosophy since antiquity.[21] The concept of automated art dates'),\n",
       " Document(page_content='of automated art dates back at least to the automata of ancient Greek civilization, where inventors'),\n",
       " Document(page_content='civilization, where inventors such as Daedalus and Hero of Alexandria were described as having'),\n",
       " Document(page_content='were described as having designed machines capable of writing text, generating sounds, and playing'),\n",
       " Document(page_content='sounds, and playing music.[22][23] The tradition of creative automatons has flourished throughout'),\n",
       " Document(page_content=\"has flourished throughout history, exemplified by Maillardet's automaton created in the early\"),\n",
       " Document(page_content='created in the early 1800s.[24]'),\n",
       " Document(page_content='Artificial Intelligence research began in the 1950s with works like Computing Machinery and'),\n",
       " Document(page_content='like Computing Machinery and Intelligence (1950) and the 1956 Dartmouth Summer Research Project on'),\n",
       " Document(page_content='Summer Research Project on AI. Since the 1950s, artists and researchers have used artificial'),\n",
       " Document(page_content='have used artificial intelligence to create artistic works. By the early 1970s, Harold Cohen was'),\n",
       " Document(page_content='early 1970s, Harold Cohen was creating and exhibiting generative AI works created by AARON, the'),\n",
       " Document(page_content='works created by AARON, the computer program Cohen created to generate paintings.[25]'),\n",
       " Document(page_content='Markov chains have long been used to model natural languages since their development by Russian'),\n",
       " Document(page_content='their development by Russian mathematician Andrey Markov in the early 20th century. Markov'),\n",
       " Document(page_content='early 20th century. Markov published his first paper on the topic in 1906,[26][27] and analyzed the'),\n",
       " Document(page_content='and analyzed the pattern of vowels and consonants in the novel Eugeny Onegin using Markov chains.'),\n",
       " Document(page_content='Onegin using Markov chains. Once a Markov chain is learned on a text corpus, it can then be used as'),\n",
       " Document(page_content='it can then be used as a probabilistic text generator.[28][29]'),\n",
       " Document(page_content='The terms generative AI planning or generative planning were used in the 1980s and 1990s to refer'),\n",
       " Document(page_content='the 1980s and 1990s to refer to AI planning systems, especially computer-aided process planning,'),\n",
       " Document(page_content='process planning, used to generate sequences of actions to reach a specified goal.[30][31]'),\n",
       " Document(page_content='a specified goal.[30][31] Generative AI planning systems used symbolic AI methods such as state'),\n",
       " Document(page_content='AI methods such as state space search and constraint satisfaction and were a \"relatively mature\"'),\n",
       " Document(page_content='were a \"relatively mature\" technology by the early 1990s. They were used to generate crisis action'),\n",
       " Document(page_content='to generate crisis action plans for military use,[32] process plans for manufacturing[30] and'),\n",
       " Document(page_content='for manufacturing[30] and decision plans such as in prototype autonomous spacecraft.[33]'),\n",
       " Document(page_content='The field of machine learning often uses statistical models, including generative models, to model'),\n",
       " Document(page_content='generative models, to model and predict data. Beginning in the late 2000s, the emergence of deep'),\n",
       " Document(page_content='2000s, the emergence of deep learning drove progress and research in image classification, speech'),\n",
       " Document(page_content='image classification, speech recognition, natural language processing and other tasks. Neural'),\n",
       " Document(page_content='and other tasks. Neural networks in this era were typically trained as discriminative models, due'),\n",
       " Document(page_content='as discriminative models, due to the difficulty of generative modeling.[34]'),\n",
       " Document(page_content='In 2014, advancements such as the variational autoencoder and generative adversarial network'),\n",
       " Document(page_content='adversarial network produced the first practical deep neural networks capable of learning'),\n",
       " Document(page_content='networks capable of learning generative models, as opposed to discriminative ones, for complex data'),\n",
       " Document(page_content='ones, for complex data such as images. These deep generative models were the first to output not'),\n",
       " Document(page_content='were the first to output not only class labels for images but also entire images.'),\n",
       " Document(page_content='In 2017, the Transformer network enabled advancements in generative models compared to older'),\n",
       " Document(page_content='models compared to older Long-Short Term Memory models,[35] leading to the first generative'),\n",
       " Document(page_content='to the first generative pre-trained transformer (GPT), known as GPT-1, in 2018.[36] This was'),\n",
       " Document(page_content='GPT-1, in 2018.[36] This was followed in 2019 by GPT-2 which demonstrated the ability to generalize'),\n",
       " Document(page_content='the ability to generalize unsupervised to many different tasks as a Foundation model.[37]'),\n",
       " Document(page_content='In 2021, the release of DALL-E, a transformer-based pixel generative model, followed by Midjourney'),\n",
       " Document(page_content='model, followed by Midjourney and Stable Diffusion marked the emergence of practical high-quality'),\n",
       " Document(page_content='of practical high-quality artificial intelligence art from natural language prompts.'),\n",
       " Document(page_content='In March 2023, GPT-4 was released. A team from Microsoft Research argued that \"it could reasonably'),\n",
       " Document(page_content='that \"it could reasonably be viewed as an early (yet still incomplete) version of an artificial'),\n",
       " Document(page_content='version of an artificial general intelligence (AGI) system\".[38] Other scholars have disputed that'),\n",
       " Document(page_content='scholars have disputed that GPT-4 reaches this threshold, calling generative AI \"still far from'),\n",
       " Document(page_content='generative AI \"still far from reaching the benchmark of ‘general human intelligence’\" as of'),\n",
       " Document(page_content='human intelligence’\" as of 2023.[39] In 2023, Meta released an AI model called ImageBind which'),\n",
       " Document(page_content='model called ImageBind which combines data from text, images, video, thermal data, 3D data, audio,'),\n",
       " Document(page_content='thermal data, 3D data, audio, and motion which is expected to allow for more immersive generative'),\n",
       " Document(page_content='for more immersive generative AI content.[40][41]'),\n",
       " Document(page_content='According to a survey by SAS and Coleman Parkes Research, China is leading the world in adopting'),\n",
       " Document(page_content='leading the world in adopting generative AI, with 83% of Chinese respondents using the technology,'),\n",
       " Document(page_content='using the technology, surpassing the global average of 54% and the U.S. at 65%. A UN report'),\n",
       " Document(page_content='the U.S. at 65%. A UN report revealed China filed over 38,000 GenAI patents from 2014 to 2023, far'),\n",
       " Document(page_content='from 2014 to 2023, far exceeding the U.S.[42]'),\n",
       " Document(page_content='Modalities'),\n",
       " Document(page_content='A generative AI system is constructed by applying unsupervised or self-supervised machine learning'),\n",
       " Document(page_content='machine learning to a data set. The capabilities of a generative AI system depend on the modality'),\n",
       " Document(page_content='system depend on the modality or type of the data set used.'),\n",
       " Document(page_content='Generative AI can be either unimodal or multimodal; unimodal systems take only one type of input,'),\n",
       " Document(page_content='take only one type of input, whereas multimodal systems can take more than one type of input.[43]'),\n",
       " Document(page_content=\"than one type of input.[43] For example, one version of OpenAI's GPT-4 accepts both text and image\"),\n",
       " Document(page_content='accepts both text and image inputs.[44]'),\n",
       " Document(page_content='Text')]"
      ]
     },
     "execution_count": 21,
     "metadata": {},
     "output_type": "execute_result"
    }
   ],
   "source": [
    "sp = RecursiveCharacterTextSplitter(chunk_size=100, chunk_overlap=30)\n",
    "final_docs = sp.create_documents(text_docs)\n",
    "final_docs"
   ]
  }
 ],
 "metadata": {
  "kernelspec": {
   "display_name": "Python 3",
   "language": "python",
   "name": "python3"
  },
  "language_info": {
   "codemirror_mode": {
    "name": "ipython",
    "version": 3
   },
   "file_extension": ".py",
   "mimetype": "text/x-python",
   "name": "python",
   "nbconvert_exporter": "python",
   "pygments_lexer": "ipython3",
   "version": "3.10.0"
  }
 },
 "nbformat": 4,
 "nbformat_minor": 2
}
