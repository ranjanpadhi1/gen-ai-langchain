{
 "cells": [
  {
   "cell_type": "markdown",
   "metadata": {},
   "source": [
    "## Faiss Vector Store\n",
    "- Stands for ``Facebook AI Similarity Search``\n",
    "- Library for efficient similarity search and clustering of dense vectors\n",
    "- Contains algorithms that search in sets of vectors of any size(which doesn't even fit in RAM)\n",
    "- Contains supporting code for evaluation and parameter tuning\n",
    "- Install `faiss_cpu`"
   ]
  },
  {
   "cell_type": "code",
   "execution_count": 2,
   "metadata": {},
   "outputs": [
    {
     "data": {
      "text/plain": [
       "<langchain_community.vectorstores.faiss.FAISS at 0x218627c3eb0>"
      ]
     },
     "execution_count": 2,
     "metadata": {},
     "output_type": "execute_result"
    }
   ],
   "source": [
    "from langchain_community.document_loaders import TextLoader\n",
    "from langchain_text_splitters import RecursiveCharacterTextSplitter\n",
    "from langchain_community.embeddings import OllamaEmbeddings\n",
    "from langchain_community.vectorstores import FAISS\n",
    "\n",
    "loader = TextLoader('../files/namo.txt')\n",
    "docs = loader.load()\n",
    "\n",
    "sp = RecursiveCharacterTextSplitter(chunk_size=500, chunk_overlap=50)\n",
    "doc_chunks = sp.split_documents(docs)\n",
    "\n",
    "embeddings = OllamaEmbeddings(model=\"gemma2:2b\")\n",
    "db = FAISS.from_documents(doc_chunks, embeddings)\n",
    "db"
   ]
  },
  {
   "cell_type": "markdown",
   "metadata": {},
   "source": [
    "#### Query on VectorStore DB"
   ]
  },
  {
   "cell_type": "code",
   "execution_count": 4,
   "metadata": {},
   "outputs": [
    {
     "data": {
      "text/plain": [
       "[Document(metadata={'source': '../files/namo.txt'}, page_content='2002 election.[114] On 7 October, Modi was sworn in[115] and he entered the Gujarat state legislature on 24 February 2002 after winning a by-election in Rajkot II constituency, defeating Ashwin Mehta of the INC.[116]'),\n",
       " Document(metadata={'source': '../files/namo.txt'}, page_content=\"Modi's planning was responsible for the win.[102][103] After L. K. Advani became president of the BJP in 1986, the RSS decided to place its members in important positions within the party; Modi's work during the Ahmedabad election led to his selection for this role. Modi was elected organising secretary of the BJP's Gujarat unit later in 1987.[104]\"),\n",
       " Document(metadata={'source': '../files/namo.txt'}, page_content='after losing his parliamentary seat in the Lok Sabha election.[52] Modi, who was on the selection committee for the 1998 Gujarat Legislative Assembly election, favoured supporters of BJP leader Keshubhai Patel over those supporting Vaghela to end factional division in the party. His strategy was credited as central to the BJP winning an overall majority in the 1998 election,[110] and Modi was promoted to BJP general secretary (organisation) in May of that year.[111]'),\n",
       " Document(metadata={'source': '../files/namo.txt'}, page_content='unit.[56] As a teenager, he was enrolled in the National Cadet Corps.[57]')]"
      ]
     },
     "execution_count": 4,
     "metadata": {},
     "output_type": "execute_result"
    }
   ],
   "source": [
    "db.similarity_search(\"When Modi joined bjp?\")"
   ]
  },
  {
   "cell_type": "code",
   "execution_count": 5,
   "metadata": {},
   "outputs": [
    {
     "data": {
      "text/plain": [
       "[(Document(metadata={'source': '../files/namo.txt'}, page_content='Modi wrote a Gujarati-language book titled Sangharsh Ma Gujarat (In the Struggles of Gujarat), which describes events during the Emergency.[99][100] While in this role, Modi met trade unionist and socialist activist George Fernandes and several other national political figures.[101]'),\n",
       "  5306.0537),\n",
       " (Document(metadata={'source': '../files/namo.txt'}, page_content=\"Modi's planning was responsible for the win.[102][103] After L. K. Advani became president of the BJP in 1986, the RSS decided to place its members in important positions within the party; Modi's work during the Ahmedabad election led to his selection for this role. Modi was elected organising secretary of the BJP's Gujarat unit later in 1987.[104]\"),\n",
       "  5803.08),\n",
       " (Document(metadata={'source': '../files/namo.txt'}, page_content='unit.[56] As a teenager, he was enrolled in the National Cadet Corps.[57]'),\n",
       "  5808.041),\n",
       " (Document(metadata={'source': '../files/namo.txt'}, page_content='Early life and education\\nNarendra Damodardas Modi was born on 17 September 1950 to a Gujarati Hindu family of oil presser (Modh-Ghanchi) which is an Other Backward Class (OBC) category[45][46] in Vadnagar, Mehsana district, Bombay State (present-day Gujarat). He was the third of six children born to Damodardas Mulchand Modi (c.\\u20091915–1989) and Hiraben Modi (1923–2022).[47][a][48]'),\n",
       "  5838.901)]"
      ]
     },
     "execution_count": 5,
     "metadata": {},
     "output_type": "execute_result"
    }
   ],
   "source": [
    "db.similarity_search_with_score(\"What is modi's educational qualification?\")"
   ]
  },
  {
   "cell_type": "markdown",
   "metadata": {},
   "source": [
    "#### Query using embedding vectors"
   ]
  },
  {
   "cell_type": "code",
   "execution_count": 8,
   "metadata": {},
   "outputs": [
    {
     "data": {
      "text/plain": [
       "[Document(metadata={'source': '../files/namo.txt'}, page_content='2002 election.[114] On 7 October, Modi was sworn in[115] and he entered the Gujarat state legislature on 24 February 2002 after winning a by-election in Rajkot II constituency, defeating Ashwin Mehta of the INC.[116]'),\n",
       " Document(metadata={'source': '../files/namo.txt'}, page_content='after losing his parliamentary seat in the Lok Sabha election.[52] Modi, who was on the selection committee for the 1998 Gujarat Legislative Assembly election, favoured supporters of BJP leader Keshubhai Patel over those supporting Vaghela to end factional division in the party. His strategy was credited as central to the BJP winning an overall majority in the 1998 election,[110] and Modi was promoted to BJP general secretary (organisation) in May of that year.[111]'),\n",
       " Document(metadata={'source': '../files/namo.txt'}, page_content='Early life and education\\nNarendra Damodardas Modi was born on 17 September 1950 to a Gujarati Hindu family of oil presser (Modh-Ghanchi) which is an Other Backward Class (OBC) category[45][46] in Vadnagar, Mehsana district, Bombay State (present-day Gujarat). He was the third of six children born to Damodardas Mulchand Modi (c.\\u20091915–1989) and Hiraben Modi (1923–2022).[47][a][48]'),\n",
       " Document(metadata={'source': '../files/namo.txt'}, page_content='married and that his spouse was Jashodaben.[61] A Modi biographer wrote that Modi kept the marriage a secret because he would not have been able to become a pracharak in the RSS, for which celibacy had once been a requirement.[62][63]')]"
      ]
     },
     "execution_count": 8,
     "metadata": {},
     "output_type": "execute_result"
    }
   ],
   "source": [
    "vector = embeddings.embed_query(\"How old is Modi?\")\n",
    "db.similarity_search_by_vector(vector)"
   ]
  },
  {
   "cell_type": "markdown",
   "metadata": {},
   "source": [
    "#### Save/load VectorStore DB in Local"
   ]
  },
  {
   "cell_type": "code",
   "execution_count": 14,
   "metadata": {},
   "outputs": [],
   "source": [
    "db.save_local(\"faiss_index\")\n",
    "new_db = FAISS.load_local(\"faiss_index\", embeddings=embeddings, allow_dangerous_deserialization=True)"
   ]
  },
  {
   "cell_type": "code",
   "execution_count": 15,
   "metadata": {},
   "outputs": [
    {
     "data": {
      "text/plain": [
       "[Document(metadata={'source': '../files/namo.txt'}, page_content='Modi was born and raised in Vadnagar in northeastern Gujarat, where he completed his secondary education. He was introduced to the RSS at the age of eight. At the age of 18, he was married to Jashodaben Modi, whom he abandoned soon after, only publicly acknowledging her four decades later when legally required to do so. Modi became a full-time worker for the RSS in Gujarat in 1971. The RSS assigned him to the BJP in 1985 and he rose through the party hierarchy, becoming general secretary in'),\n",
       " Document(metadata={'source': '../files/namo.txt'}, page_content='Scholars consider the Government of Gujarat to have been complicit in the riots,[10][129] and it has received much criticism for its handling of the situation;[130] some scholars explicitly blame Modi.[9][131][132] The Modi government imposed a curfew in 26 major cities, issued shoot-at-sight orders and called for the army to patrol the streets; these measures failed to prevent the violence from escalating.[123][124] The president of the state unit of the BJP expressed support for the bandh'),\n",
       " Document(metadata={'source': '../files/namo.txt'}, page_content='Narendra Damodardas Modi (Gujarati: [ˈnəɾendɾə dɑmodəɾˈdɑs ˈmodiː] ⓘ; born 17 September 1950)[a] is an Indian politician serving as the current prime minister of India since 26 May 2014. Modi was the chief minister of Gujarat from 2001 to 2014 and is the Member of Parliament (MP) for Varanasi. He is a member of the Bharatiya Janata Party (BJP) and of the Rashtriya Swayamsevak Sangh (RSS), a right-wing Hindu nationalist paramilitary volunteer organisation. He is the longest-serving prime minister'),\n",
       " Document(metadata={'source': '../files/namo.txt'}, page_content=\"In 2001, Keshubhai Patel's health was failing, and the BJP lost a few state assembly seats in by-elections. Allegations of abuse of power, corruption and poor administration were made, and Patel's standing had been damaged by his administration's handling of the earthquake in Bhuj in 2001.[110][112][113] The BJP national leadership sought a new candidate for the chief ministership, and Modi, who had expressed misgivings about Patel's administration, was chosen as a replacement.[52] Advani did\")]"
      ]
     },
     "execution_count": 15,
     "metadata": {},
     "output_type": "execute_result"
    }
   ],
   "source": [
    "new_db.similarity_search('Where Modi is born?')"
   ]
  }
 ],
 "metadata": {
  "kernelspec": {
   "display_name": "Python 3",
   "language": "python",
   "name": "python3"
  },
  "language_info": {
   "codemirror_mode": {
    "name": "ipython",
    "version": 3
   },
   "file_extension": ".py",
   "mimetype": "text/x-python",
   "name": "python",
   "nbconvert_exporter": "python",
   "pygments_lexer": "ipython3",
   "version": "3.10.0"
  }
 },
 "nbformat": 4,
 "nbformat_minor": 2
}
