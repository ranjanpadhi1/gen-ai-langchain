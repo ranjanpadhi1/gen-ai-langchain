{
 "cells": [
  {
   "cell_type": "markdown",
   "metadata": {},
   "source": [
    "## Chroma DB\n",
    "- AI-native open-source vector database focused licenced under Apache.\n",
    "- Install `langchain_chroma`\n",
    "- https://python.langchain.com/v0.1/docs/modules/data_connection/vectorstores/"
   ]
  },
  {
   "cell_type": "code",
   "execution_count": 3,
   "metadata": {},
   "outputs": [
    {
     "data": {
      "text/plain": [
       "<langchain_chroma.vectorstores.Chroma at 0x1b8bded8b80>"
      ]
     },
     "execution_count": 3,
     "metadata": {},
     "output_type": "execute_result"
    }
   ],
   "source": [
    "from langchain_community.document_loaders import TextLoader\n",
    "from langchain_text_splitters import RecursiveCharacterTextSplitter\n",
    "from langchain_community.embeddings import OllamaEmbeddings\n",
    "from langchain_chroma import Chroma\n",
    "\n",
    "loader = TextLoader('../files/namo.txt')\n",
    "docs = loader.load()\n",
    "\n",
    "sp = RecursiveCharacterTextSplitter(chunk_size=500, chunk_overlap=50)\n",
    "doc_chunks = sp.split_documents(docs)\n",
    "\n",
    "embeddings = OllamaEmbeddings(model=\"gemma2:2b\")\n",
    "db = Chroma.from_documents(doc_chunks, embeddings)\n",
    "db"
   ]
  },
  {
   "cell_type": "markdown",
   "metadata": {},
   "source": [
    "#### Query"
   ]
  },
  {
   "cell_type": "code",
   "execution_count": 5,
   "metadata": {},
   "outputs": [
    {
     "data": {
      "text/plain": [
       "[(Document(metadata={'source': '../files/namo.txt'}, page_content='2002 election.[114] On 7 October, Modi was sworn in[115] and he entered the Gujarat state legislature on 24 February 2002 after winning a by-election in Rajkot II constituency, defeating Ashwin Mehta of the INC.[116]'),\n",
       "  4478.1220703125),\n",
       " (Document(metadata={'source': '../files/namo.txt'}, page_content='Early life and education\\nNarendra Damodardas Modi was born on 17 September 1950 to a Gujarati Hindu family of oil presser (Modh-Ghanchi) which is an Other Backward Class (OBC) category[45][46] in Vadnagar, Mehsana district, Bombay State (present-day Gujarat). He was the third of six children born to Damodardas Mulchand Modi (c.\\u20091915–1989) and Hiraben Modi (1923–2022).[47][a][48]'),\n",
       "  4756.02880859375),\n",
       " (Document(metadata={'source': '../files/namo.txt'}, page_content='married and that his spouse was Jashodaben.[61] A Modi biographer wrote that Modi kept the marriage a secret because he would not have been able to become a pracharak in the RSS, for which celibacy had once been a requirement.[62][63]'),\n",
       "  4941.62060546875),\n",
       " (Document(metadata={'source': '../files/namo.txt'}, page_content='Modi wrote a Gujarati-language book titled Sangharsh Ma Gujarat (In the Struggles of Gujarat), which describes events during the Emergency.[99][100] While in this role, Modi met trade unionist and socialist activist George Fernandes and several other national political figures.[101]'),\n",
       "  4973.56396484375)]"
      ]
     },
     "execution_count": 5,
     "metadata": {},
     "output_type": "execute_result"
    }
   ],
   "source": [
    "db.similarity_search_with_score(\"Is modi married?\")"
   ]
  },
  {
   "cell_type": "markdown",
   "metadata": {},
   "source": [
    "#### Save to local"
   ]
  },
  {
   "cell_type": "code",
   "execution_count": 6,
   "metadata": {},
   "outputs": [],
   "source": [
    "vectordb = Chroma.from_documents(doc_chunks, embedding=embeddings, persist_directory=\"./chroma_db\")"
   ]
  },
  {
   "cell_type": "markdown",
   "metadata": {},
   "source": [
    "#### Load from local DB and query"
   ]
  },
  {
   "cell_type": "code",
   "execution_count": 7,
   "metadata": {},
   "outputs": [
    {
     "data": {
      "text/plain": [
       "[Document(metadata={'source': '../files/namo.txt'}, page_content='2002 election.[114] On 7 October, Modi was sworn in[115] and he entered the Gujarat state legislature on 24 February 2002 after winning a by-election in Rajkot II constituency, defeating Ashwin Mehta of the INC.[116]'),\n",
       " Document(metadata={'source': '../files/namo.txt'}, page_content='Modi wrote a Gujarati-language book titled Sangharsh Ma Gujarat (In the Struggles of Gujarat), which describes events during the Emergency.[99][100] While in this role, Modi met trade unionist and socialist activist George Fernandes and several other national political figures.[101]'),\n",
       " Document(metadata={'source': '../files/namo.txt'}, page_content=\"Modi's planning was responsible for the win.[102][103] After L. K. Advani became president of the BJP in 1986, the RSS decided to place its members in important positions within the party; Modi's work during the Ahmedabad election led to his selection for this role. Modi was elected organising secretary of the BJP's Gujarat unit later in 1987.[104]\"),\n",
       " Document(metadata={'source': '../files/namo.txt'}, page_content='Early life and education\\nNarendra Damodardas Modi was born on 17 September 1950 to a Gujarati Hindu family of oil presser (Modh-Ghanchi) which is an Other Backward Class (OBC) category[45][46] in Vadnagar, Mehsana district, Bombay State (present-day Gujarat). He was the third of six children born to Damodardas Mulchand Modi (c.\\u20091915–1989) and Hiraben Modi (1923–2022).[47][a][48]')]"
      ]
     },
     "execution_count": 7,
     "metadata": {},
     "output_type": "execute_result"
    }
   ],
   "source": [
    "new_db = Chroma(persist_directory=\"./chroma_db\", embedding_function=embeddings)\n",
    "new_db.similarity_search(\"Is Modi married?\")"
   ]
  }
 ],
 "metadata": {
  "kernelspec": {
   "display_name": "Python 3",
   "language": "python",
   "name": "python3"
  },
  "language_info": {
   "codemirror_mode": {
    "name": "ipython",
    "version": 3
   },
   "file_extension": ".py",
   "mimetype": "text/x-python",
   "name": "python",
   "nbconvert_exporter": "python",
   "pygments_lexer": "ipython3",
   "version": "3.10.0"
  }
 },
 "nbformat": 4,
 "nbformat_minor": 2
}
